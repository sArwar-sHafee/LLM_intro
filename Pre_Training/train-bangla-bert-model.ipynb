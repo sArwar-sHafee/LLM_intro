{
 "cells": [
  {
   "cell_type": "code",
   "execution_count": 1,
   "id": "1f978372",
   "metadata": {
    "_cell_guid": "b1076dfc-b9ad-4769-8c92-a6c4dae69d19",
    "_uuid": "8f2839f25d086af736a60e9eeb907d3b93b6e0e5",
    "execution": {
     "iopub.execute_input": "2024-06-15T19:48:07.588409Z",
     "iopub.status.busy": "2024-06-15T19:48:07.587847Z",
     "iopub.status.idle": "2024-06-15T19:48:13.660865Z",
     "shell.execute_reply": "2024-06-15T19:48:13.659841Z"
    },
    "papermill": {
     "duration": 6.083072,
     "end_time": "2024-06-15T19:48:13.663194",
     "exception": false,
     "start_time": "2024-06-15T19:48:07.580122",
     "status": "completed"
    },
    "tags": []
   },
   "outputs": [],
   "source": [
    "!python -m venv myenv\n",
    "!source myenv/bin/activate"
   ]
  },
  {
   "cell_type": "code",
   "execution_count": 2,
   "id": "366c2a07",
   "metadata": {
    "execution": {
     "iopub.execute_input": "2024-06-15T19:48:13.677235Z",
     "iopub.status.busy": "2024-06-15T19:48:13.676956Z",
     "iopub.status.idle": "2024-06-15T19:48:36.683571Z",
     "shell.execute_reply": "2024-06-15T19:48:36.682502Z"
    },
    "papermill": {
     "duration": 23.016294,
     "end_time": "2024-06-15T19:48:36.685955",
     "exception": false,
     "start_time": "2024-06-15T19:48:13.669661",
     "status": "completed"
    },
    "tags": []
   },
   "outputs": [
    {
     "name": "stdout",
     "output_type": "stream",
     "text": [
      "Requirement already satisfied: datasets in /opt/conda/lib/python3.10/site-packages (2.19.2)\r\n",
      "Collecting transformers==4.18.0\r\n",
      "  Downloading transformers-4.18.0-py3-none-any.whl.metadata (70 kB)\r\n",
      "\u001b[2K     \u001b[90m━━━━━━━━━━━━━━━━━━━━━━━━━━━━━━━━━━━━━━━\u001b[0m \u001b[32m70.3/70.3 kB\u001b[0m \u001b[31m780.3 kB/s\u001b[0m eta \u001b[36m0:00:00\u001b[0m\r\n",
      "\u001b[?25hRequirement already satisfied: sentencepiece in /opt/conda/lib/python3.10/site-packages (0.2.0)\r\n",
      "Requirement already satisfied: filelock in /opt/conda/lib/python3.10/site-packages (from transformers==4.18.0) (3.13.1)\r\n",
      "Requirement already satisfied: huggingface-hub<1.0,>=0.1.0 in /opt/conda/lib/python3.10/site-packages (from transformers==4.18.0) (0.23.2)\r\n",
      "Requirement already satisfied: numpy>=1.17 in /opt/conda/lib/python3.10/site-packages (from transformers==4.18.0) (1.26.4)\r\n",
      "Requirement already satisfied: packaging>=20.0 in /opt/conda/lib/python3.10/site-packages (from transformers==4.18.0) (21.3)\r\n",
      "Requirement already satisfied: pyyaml>=5.1 in /opt/conda/lib/python3.10/site-packages (from transformers==4.18.0) (6.0.1)\r\n",
      "Requirement already satisfied: regex!=2019.12.17 in /opt/conda/lib/python3.10/site-packages (from transformers==4.18.0) (2023.12.25)\r\n",
      "Requirement already satisfied: requests in /opt/conda/lib/python3.10/site-packages (from transformers==4.18.0) (2.32.3)\r\n",
      "Collecting sacremoses (from transformers==4.18.0)\r\n",
      "  Downloading sacremoses-0.1.1-py3-none-any.whl.metadata (8.3 kB)\r\n",
      "Collecting tokenizers!=0.11.3,<0.13,>=0.11.1 (from transformers==4.18.0)\r\n",
      "  Downloading tokenizers-0.12.1-cp310-cp310-manylinux_2_12_x86_64.manylinux2010_x86_64.whl.metadata (6.5 kB)\r\n",
      "Requirement already satisfied: tqdm>=4.27 in /opt/conda/lib/python3.10/site-packages (from transformers==4.18.0) (4.66.4)\r\n",
      "Requirement already satisfied: pyarrow>=12.0.0 in /opt/conda/lib/python3.10/site-packages (from datasets) (14.0.2)\r\n",
      "Requirement already satisfied: pyarrow-hotfix in /opt/conda/lib/python3.10/site-packages (from datasets) (0.6)\r\n",
      "Requirement already satisfied: dill<0.3.9,>=0.3.0 in /opt/conda/lib/python3.10/site-packages (from datasets) (0.3.8)\r\n",
      "Requirement already satisfied: pandas in /opt/conda/lib/python3.10/site-packages (from datasets) (2.2.1)\r\n",
      "Requirement already satisfied: xxhash in /opt/conda/lib/python3.10/site-packages (from datasets) (3.4.1)\r\n",
      "Requirement already satisfied: multiprocess in /opt/conda/lib/python3.10/site-packages (from datasets) (0.70.16)\r\n",
      "Requirement already satisfied: fsspec<=2024.3.1,>=2023.1.0 in /opt/conda/lib/python3.10/site-packages (from fsspec[http]<=2024.3.1,>=2023.1.0->datasets) (2024.3.1)\r\n",
      "Requirement already satisfied: aiohttp in /opt/conda/lib/python3.10/site-packages (from datasets) (3.9.1)\r\n",
      "Requirement already satisfied: attrs>=17.3.0 in /opt/conda/lib/python3.10/site-packages (from aiohttp->datasets) (23.2.0)\r\n",
      "Requirement already satisfied: multidict<7.0,>=4.5 in /opt/conda/lib/python3.10/site-packages (from aiohttp->datasets) (6.0.4)\r\n",
      "Requirement already satisfied: yarl<2.0,>=1.0 in /opt/conda/lib/python3.10/site-packages (from aiohttp->datasets) (1.9.3)\r\n",
      "Requirement already satisfied: frozenlist>=1.1.1 in /opt/conda/lib/python3.10/site-packages (from aiohttp->datasets) (1.4.1)\r\n",
      "Requirement already satisfied: aiosignal>=1.1.2 in /opt/conda/lib/python3.10/site-packages (from aiohttp->datasets) (1.3.1)\r\n",
      "Requirement already satisfied: async-timeout<5.0,>=4.0 in /opt/conda/lib/python3.10/site-packages (from aiohttp->datasets) (4.0.3)\r\n",
      "Requirement already satisfied: typing-extensions>=3.7.4.3 in /opt/conda/lib/python3.10/site-packages (from huggingface-hub<1.0,>=0.1.0->transformers==4.18.0) (4.9.0)\r\n",
      "Requirement already satisfied: pyparsing!=3.0.5,>=2.0.2 in /opt/conda/lib/python3.10/site-packages (from packaging>=20.0->transformers==4.18.0) (3.1.1)\r\n",
      "Requirement already satisfied: charset-normalizer<4,>=2 in /opt/conda/lib/python3.10/site-packages (from requests->transformers==4.18.0) (3.3.2)\r\n",
      "Requirement already satisfied: idna<4,>=2.5 in /opt/conda/lib/python3.10/site-packages (from requests->transformers==4.18.0) (3.6)\r\n",
      "Requirement already satisfied: urllib3<3,>=1.21.1 in /opt/conda/lib/python3.10/site-packages (from requests->transformers==4.18.0) (1.26.18)\r\n",
      "Requirement already satisfied: certifi>=2017.4.17 in /opt/conda/lib/python3.10/site-packages (from requests->transformers==4.18.0) (2024.2.2)\r\n",
      "Requirement already satisfied: python-dateutil>=2.8.2 in /opt/conda/lib/python3.10/site-packages (from pandas->datasets) (2.9.0.post0)\r\n",
      "Requirement already satisfied: pytz>=2020.1 in /opt/conda/lib/python3.10/site-packages (from pandas->datasets) (2023.3.post1)\r\n",
      "Requirement already satisfied: tzdata>=2022.7 in /opt/conda/lib/python3.10/site-packages (from pandas->datasets) (2023.4)\r\n",
      "Requirement already satisfied: click in /opt/conda/lib/python3.10/site-packages (from sacremoses->transformers==4.18.0) (8.1.7)\r\n",
      "Requirement already satisfied: joblib in /opt/conda/lib/python3.10/site-packages (from sacremoses->transformers==4.18.0) (1.4.2)\r\n",
      "Requirement already satisfied: six>=1.5 in /opt/conda/lib/python3.10/site-packages (from python-dateutil>=2.8.2->pandas->datasets) (1.16.0)\r\n",
      "Downloading transformers-4.18.0-py3-none-any.whl (4.0 MB)\r\n",
      "\u001b[2K   \u001b[90m━━━━━━━━━━━━━━━━━━━━━━━━━━━━━━━━━━━━━━━━\u001b[0m \u001b[32m4.0/4.0 MB\u001b[0m \u001b[31m19.0 MB/s\u001b[0m eta \u001b[36m0:00:00\u001b[0m\r\n",
      "\u001b[?25hDownloading tokenizers-0.12.1-cp310-cp310-manylinux_2_12_x86_64.manylinux2010_x86_64.whl (6.6 MB)\r\n",
      "\u001b[2K   \u001b[90m━━━━━━━━━━━━━━━━━━━━━━━━━━━━━━━━━━━━━━━━\u001b[0m \u001b[32m6.6/6.6 MB\u001b[0m \u001b[31m65.4 MB/s\u001b[0m eta \u001b[36m0:00:00\u001b[0m\r\n",
      "\u001b[?25hDownloading sacremoses-0.1.1-py3-none-any.whl (897 kB)\r\n",
      "\u001b[2K   \u001b[90m━━━━━━━━━━━━━━━━━━━━━━━━━━━━━━━━━━━━━━━━\u001b[0m \u001b[32m897.5/897.5 kB\u001b[0m \u001b[31m38.1 MB/s\u001b[0m eta \u001b[36m0:00:00\u001b[0m\r\n",
      "\u001b[?25hInstalling collected packages: tokenizers, sacremoses, transformers\r\n",
      "  Attempting uninstall: tokenizers\r\n",
      "    Found existing installation: tokenizers 0.19.1\r\n",
      "    Uninstalling tokenizers-0.19.1:\r\n",
      "      Successfully uninstalled tokenizers-0.19.1\r\n",
      "  Attempting uninstall: transformers\r\n",
      "    Found existing installation: transformers 4.41.2\r\n",
      "    Uninstalling transformers-4.41.2:\r\n",
      "      Successfully uninstalled transformers-4.41.2\r\n",
      "\u001b[31mERROR: pip's dependency resolver does not currently take into account all the packages that are installed. This behaviour is the source of the following dependency conflicts.\r\n",
      "kaggle-environments 1.14.11 requires transformers>=4.33.1, but you have transformers 4.18.0 which is incompatible.\u001b[0m\u001b[31m\r\n",
      "\u001b[0mSuccessfully installed sacremoses-0.1.1 tokenizers-0.12.1 transformers-4.18.0\r\n"
     ]
    }
   ],
   "source": [
    "!pip install datasets transformers==4.18.0 sentencepiece"
   ]
  },
  {
   "cell_type": "code",
   "execution_count": 3,
   "id": "fcb937e9",
   "metadata": {
    "execution": {
     "iopub.execute_input": "2024-06-15T19:48:36.705599Z",
     "iopub.status.busy": "2024-06-15T19:48:36.704907Z",
     "iopub.status.idle": "2024-06-15T19:48:38.791240Z",
     "shell.execute_reply": "2024-06-15T19:48:38.790417Z"
    },
    "papermill": {
     "duration": 2.098467,
     "end_time": "2024-06-15T19:48:38.793544",
     "exception": false,
     "start_time": "2024-06-15T19:48:36.695077",
     "status": "completed"
    },
    "tags": []
   },
   "outputs": [],
   "source": [
    "# from datasets import *\n",
    "# from transformers import *\n",
    "# from tokenizers import *\n",
    "\n",
    "import datasets\n",
    "import transformers\n",
    "import tokenizers\n",
    "import os\n",
    "import json"
   ]
  },
  {
   "cell_type": "code",
   "execution_count": 4,
   "id": "8c41cd54",
   "metadata": {
    "execution": {
     "iopub.execute_input": "2024-06-15T19:48:38.813343Z",
     "iopub.status.busy": "2024-06-15T19:48:38.812910Z",
     "iopub.status.idle": "2024-06-15T19:48:54.508459Z",
     "shell.execute_reply": "2024-06-15T19:48:54.507562Z"
    },
    "papermill": {
     "duration": 15.707834,
     "end_time": "2024-06-15T19:48:54.510705",
     "exception": false,
     "start_time": "2024-06-15T19:48:38.802871",
     "status": "completed"
    },
    "tags": []
   },
   "outputs": [
    {
     "data": {
      "application/vnd.jupyter.widget-view+json": {
       "model_id": "87afdf8b8459442797b151709559c806",
       "version_major": 2,
       "version_minor": 0
      },
      "text/plain": [
       "Downloading data:   0%|          | 0.00/561M [00:00<?, ?B/s]"
      ]
     },
     "metadata": {},
     "output_type": "display_data"
    },
    {
     "data": {
      "application/vnd.jupyter.widget-view+json": {
       "model_id": "3207cc9e85154ddbac83a08099eab593",
       "version_major": 2,
       "version_minor": 0
      },
      "text/plain": [
       "Generating train split:   0%|          | 0/184819 [00:00<?, ? examples/s]"
      ]
     },
     "metadata": {},
     "output_type": "display_data"
    }
   ],
   "source": [
    "# download and prepare cc_news dataset\n",
    "dataset = datasets.load_dataset(\"sarwarshafee8709809365/Synthetic_Story_Generated_By_Gemini\", split=\"train\")"
   ]
  },
  {
   "cell_type": "code",
   "execution_count": 5,
   "id": "9903e3e4",
   "metadata": {
    "execution": {
     "iopub.execute_input": "2024-06-15T19:48:54.530428Z",
     "iopub.status.busy": "2024-06-15T19:48:54.530154Z",
     "iopub.status.idle": "2024-06-15T19:48:54.621600Z",
     "shell.execute_reply": "2024-06-15T19:48:54.620737Z"
    },
    "papermill": {
     "duration": 0.103167,
     "end_time": "2024-06-15T19:48:54.623481",
     "exception": false,
     "start_time": "2024-06-15T19:48:54.520314",
     "status": "completed"
    },
    "tags": []
   },
   "outputs": [
    {
     "data": {
      "text/plain": [
       "(Dataset({\n",
       "     features: ['text'],\n",
       "     num_rows: 182970\n",
       " }),\n",
       " Dataset({\n",
       "     features: ['text'],\n",
       "     num_rows: 1849\n",
       " }))"
      ]
     },
     "execution_count": 5,
     "metadata": {},
     "output_type": "execute_result"
    }
   ],
   "source": [
    "d = dataset.train_test_split(test_size=0.01)\n",
    "d[\"train\"], d[\"test\"]"
   ]
  },
  {
   "cell_type": "code",
   "execution_count": 6,
   "id": "a2e81d26",
   "metadata": {
    "execution": {
     "iopub.execute_input": "2024-06-15T19:48:54.642950Z",
     "iopub.status.busy": "2024-06-15T19:48:54.642677Z",
     "iopub.status.idle": "2024-06-15T19:48:57.942779Z",
     "shell.execute_reply": "2024-06-15T19:48:57.941791Z"
    },
    "papermill": {
     "duration": 3.312716,
     "end_time": "2024-06-15T19:48:57.945445",
     "exception": false,
     "start_time": "2024-06-15T19:48:54.632729",
     "status": "completed"
    },
    "tags": []
   },
   "outputs": [
    {
     "name": "stdout",
     "output_type": "stream",
     "text": [
      "একটি ঘন জঙ্গলের প্রান্তে একটি ছোট গ্রাম ছিল। সেখানে জগন্নাথ নামে এক দরিদ্র কৃষক বাস করত। তাঁর স্ত্রী ও দুটি ছোট সন্তান ছিল। জগন্নাথ খুব পরিশ্রমী ছিল। সে খুব ভোরে ঘুম থেকে উঠে কাজে বেরিয়ে পড়ত। কিন্তু তার সব পরিশ্রম সত্ত্বেও তাদের খেতে পরতে খুব অসুবিধা হত।\n",
      "\n",
      "একদিন জগন্নাথ জঙ্গলে কাঠ কাটতে গেছিল। কাঠ কাটতে কাটতে সে খুব ক্লান্ত হয়ে পড়ল। তাই সে একটি গাছের তলায় বসে কিছুক্ষণের জন্য বিশ্রাম নিল। হঠাৎ তার চোখে পড়ল একটি বড় পাথর। পাথরের উপর কিছু অদ্ভুত অক্ষর খোদাই করা ছিল। জগন্নাথ খুব কৌতূহলী হয়ে পাথরটা ঘষে ঘষে পরিষ্কার করল।\n",
      "\n",
      "পাথরটা পরিষ্কার হওয়ার পর জগন্নাথ দেখল, সেখানে লেখা আছে, \"এই পাথরের নীচে লুকিয়ে আছে একটি ধন।\" জগন্নাথ খুব খুশি হল। সে ইদিক ওদিক তাকিয়ে দেখল, কেউ নেই। তারপর সে পাথরটা তুলে ফেলল। পাথরের নীচে সত্যিই একটি বড় বাক্স ছিল।\n",
      "\n",
      "জগন্নাথ সেই বাক্সটা তুলে বাড়িতে নিয়ে এল। বাক্সটা খুলে দেখল, তার মধ্যে রয়েছে স্বর্ণের মুদ্রা, রতন এবং অনেক মূল্যবান জিনিস। জগন্নাথ ও তার পরিবারের খুশির সীমা রইল না। তারা এবার থেকে আর দরিদ্র নেই। তারা সুখে-শান্তিতে জীবন কাটাল।\n",
      "==================================================\n",
      "এক পুকুরের পাশে আরাম করে বসেছিল এক ব্যাঙ। হঠাৎ সেখানে এক মেষ পা এসে দাঁড়ালো। মেষটার ঘাড়ে, পিঠে এবং পায়ে ঘন পশম ছিল। পুকুর থেকে বেরিয়ে সেই পশমের গায়ে ব্যাঙটা আরামসে গড়াগড়ি দিতে লাগল।\n",
      "\n",
      "মেষটা শান্ত ভঙ্গিতে চুপ করে দাঁড়িয়ে রইল। কিছুক্ষণ পরে ব্যাঙটা ক্লান্ত হয়ে গেলে সে ফিরে গেল পুকুরে।\n",
      "\n",
      "পুকুরের পাড়ে বসে থাকা ব্যাঙটার বন্ধুটি, যে একটি হাঁস ছিল, কৌতূহলী হয়ে জিজ্ঞেস করল, \"কী হল, এত খুশি কেন তুমি?\"\n",
      "\n",
      "ব্যাঙটা উত্তেজিত হয়ে উঠে বলল, \"আমি এখন কিন্তু একজন মহান যোদ্ধা হয়ে উঠেছি.\"\n",
      "\n",
      "\"কী করে এত তাড়াতাড়ি হয়ে উঠলে তুমি যোদ্ধা?\" হাঁসটি জিজ্ঞেস করল।\n",
      "\n",
      "ব্যাঙটা উত্তর দিল, \"আমি এই মাত্র এক মেষের পিঠে চড়ে ঘণ্টার পর ঘণ্টা যুদ্ধ করেছি। আর জানিস, আমি ভীষণ বলিষ্ঠ।\"\n",
      "\n",
      "হাঁসটি হাসতে লাগল। \"তুমি এক মেষের পিঠে চড়েছিলে, তাই জন্য তুমি একজন যোদ্ধা হয়ে গেছ? সে তো বেচারা শুধু নিরীহভাবে দাঁড়িয়ে ছিল।\"\n",
      "\n",
      "ব্যাঙটা জবাব দিল, \"না, না! আমি নিজের চোখে দেখেছিলাম কতটা লোমশ সে। যদি সে তার লোমগুলো নড়াতো, তাহলে আমি সঙ্গে সঙ্গেই ছিটকে পড়ে যেতাম। কিন্তু সে তা করেনি। সেকি যথেষ্ট প্রমাণ নয় যে, সে ভয় পেয়েছিল?\"\n",
      "\n",
      "হাঁসটি আরও হাসল। \"ঠিক আছে, যেমনটা তুমি বলছ। কিন্তু মনে রেখো, সবসময় এতটা ভাগ্যবান হওয়া যায় না।\"\n",
      "\n",
      "ব্যাঙটা তার কথার তোয়াক্কা করল না। সে নিশ্চিত ছিল যে সে তার নতুন পাওয়া শক্তিতে কিছু মহান কাজ করবে।\n",
      "==================================================\n",
      "আকাশ মেঘলা হয়েছে। কোনও একটা সময় ঝড়ের সঙ্গে জল আসবেই। শিশুটা ছোট্ট একটি খড়ের ঘরে বসে আছে। ঝুপড়ি ঘরের মতোই নড়বড়ে সেই খড়ের ঘরও। ঘরের মধ্যে একটু খড়ের বিছানা ছাড়া আর কিছুই নেই। শুষ্ক কাঠের তৈরি সব জিনিসই বৃষ্টিতে ভেজানোর আগেই বিকিয়ে দিয়েছে মেয়েটা। নিজে কিছু খেতে পায়নি আজ। তবে খাবারের জন্য খুব টান কিছু হয়নি তার। ক্ষুধা তার চেয়ে অনেক বেশি। শরীর জুড়ে একটা অসহ্য যন্ত্রণায় কাতর হচ্ছে সে। হাড়গুলো যেন ভেঙে যাচ্ছে, মনে হচ্ছে মাংস খসে পড়ছে। মাঝে মাঝে এমন অবস্থায় তার নিজের অজান্তেই হঠাৎ বেরিয়ে যায় আর্তনাদ। নিজের কানে ওই শব্দ শুনে আরও ভয় পায় সে। মনে হয় ওর শরীর থেকে ওর আত্মা বেরিয়ে যাচ্ছে।\n",
      "\n",
      "তার বয়স কত, সে হিসেব তার মনে নেই। মনে নেই বাবা-মা কারা ছিল। শুধু একটা কথাই মনে আছে, তার যখন সাত-আটটা বছর বয়স হবে, অজানা একটা রাস্তা দিয়ে যাচ্ছিল সে। হঠাৎ তার কাঁধে পিছন থেকে এসে দু’হাত বসায় কেউ। তারপর তাকে নিয়ে কোথায় যে গেল কী করল সে কিছুই জানে না। সচেতন হয়ে উঠে দেখে সে একটা অচেনা পরিবেশ। একটা বড় ঘর, পাঁচিল দিয়ে ঘেরা। ঘরের মধ্যে কয়েকটা মেয়ে বসে কাজ করছে। কাঁদতে কাঁদতে তার মাথা ঘুরিয়ে পড়ছিল। সেদিন থেকে সেই অচেনা মেয়েগুলো সেখানে কাজ করত। সব মেয়েগুলোই ছিল ছোটখাটো। তাদের কাজ ছিল সেখানে মদের বোতল ধোয়া। শিশুদের নরম তালুতে মদের গন্ধ ও স্বাদ কি রকম লাগে, তারও পরীক্ষা করা হয়নি কখনও। রেকটিফাইড স্পিরিট তাদের তালুতে দেওয়া হতো বারবার। সেইসব পরীক্ষার যন্ত্রণা সহ্য করতে পারত না ওরা। অনেক কান্নাকাটির পর একদিন ওরা পার পেয়ে গিয়েছিল সেই যন্ত্রণা থেকে। কিন্তু যেকোনও মেয়েকে ওই সমস্ত পরীক্ষায় লাগানোর আগে তাকে প্রথমে দু’মাস একা থাকতে হতো ওই অন্ধকার ঘরে, জল-খাবার বিয়ের দু’টো কুঁজো ছাড়া আর কিছুই ছিল না সেখানে। শিশু-কন্যাটা তার সবচেয়ে কঠিন সময়টা সেইখানেই কাটিয়েছে। সেই অন্তহীন অন্ধকার, ঠান্ডা আর একাকীত্বের কথা তার মনে আছে এখনও। ওই দু’মাসই শুধু তার জীবনের সবচেয়ে দীর্ঘ দিন।\n",
      "\n",
      "ছোটদের বেশিদিন একা থাকার অনুমতি দেওয়া হয় না। কারণ দু’মাসের মধ্যে যদি তারা কোনও কথা না বলে, তাহলে বোঝা যায়, সব পরীক্ষণের জন্য সে প্রস্তুত। শিশু-কন্যাটার অবশ্য ওই দু’মাসের জন্য অপেক্ষা করতে হয়নি। ও যখন ওই অন্ধকার ঘরে ঢুকেছিল, তখন তার গায়ে কেবল একটা ছোট্ট শাড়ি ছিল। বাইরে বৃষ্টি হচ্ছিল। তবে ঘরটার উপরের ছাদে ফুটো ছিল বেশ কয়েকটা। মেঝেতে জল জমে যাচ্ছিল। শুয়ে থাকার মতো জায়গা কোনওদিকে নেই। ও সেখানে দু’দিন একটানা দাঁড়িয়ে কাটিয়েছে। এরপরের রাতে সে জলের মধ্যে ঘুমিয়ে পড়ে। নিদ্রার মধ্যে খুব জোরে বৃষ্টি শুরু হয়। বৃষ্টির জল তার গায়ে গিয়ে লাগল। সে শিউরে উঠল। ঘুম ভেঙে গেল তার। উঠে দেখল, তার গায়ে আগের রাতের চেয়ে অনেক বেশি জল এসে পড়েছে। পায়ে একটা ভীষণ যন্ত্রণা হচ্ছে। নাড়ী খোঁজার চেষ্টা করছে ও। জলের মধ্যে হাত নামিয়ে সে কিছু একটা টের পেল। জলের মধ্যে হাত নামিয়ে সে টের পেল একটা তার। সেই তার ধরে ও উঠে বসল। উঠে বসে দেখে তার পাটায় দু’ভাগ হয়ে গেছে। রক্ত ঝরছে দু’দিক থেকেই। ওর হঠাৎ মনে হল, তার খুব জোরে দরকার এক বাটি জল। সে দেখল, দু’কোণে একটা মাটির বাটি রাখা আছে। কিন্তু তার শরীর অসাড়। এখানে থেকে ওঠা তার পক্ষে সম্ভব নয়।\n",
      "\n",
      "একটা পর্যায়ে সে বুঝতে পারল ও আর উঠতে পারবে না। ক্রমশ রক্ত কমাবে। আর কিছুক্ষণের মধ্যেই সে মারা যাবে। এক বাটি জল সে আর চাইল না। তার খুব শান্তি হল। দু’চোখ তার ক্রমশ বন্ধ হয়ে আসছিল। তার হাতটা অসাড় হয়ে আসছিল। হঠাৎ তার মনের মধ্যে একটা অস্ফুট কল্পনা আবির্ভূত হল। মনে হল, তার শরীর থেকে ওর আত্মা বেরিয়ে যাচ্ছে। তার শরীরটা ক্রমশ ছোট হয়ে দু’নম্বরের ছেলেগুলোর মতো হয়ে গেল। আত্মাটা তার সামনে দাঁড়িয়ে রইল। চার পায়ে হাঁটতে শুরু করল সে। শিশুটার সামনে এসে পৌঁছল। শিশুটি ওর দিকে তাকিয়ে রইল। দু’জনের মধ্যে কথাবার্তা হল না। কিন্তু তার মনে হল, ওই আত্মা ওকে পথ দেখাবে এই অন্ধকার অতলান্ত গহ্বরে। মাটির বাটির দিকে বারবার চেয়ে দেখল আত্মা। শিশুটি দু’দিকে পা ছড়িয়ে শুয়ে রইল। পায়ে আর কোনো যন্ত্রণা নেই।\n",
      "==================================================\n"
     ]
    }
   ],
   "source": [
    "for t in d[\"train\"][\"text\"][:3]:\n",
    "  print(t)\n",
    "  print(\"=\"*50)"
   ]
  },
  {
   "cell_type": "code",
   "execution_count": 7,
   "id": "c4dfefa6",
   "metadata": {
    "execution": {
     "iopub.execute_input": "2024-06-15T19:48:57.967337Z",
     "iopub.status.busy": "2024-06-15T19:48:57.967046Z",
     "iopub.status.idle": "2024-06-15T19:49:02.617496Z",
     "shell.execute_reply": "2024-06-15T19:49:02.616497Z"
    },
    "papermill": {
     "duration": 4.663322,
     "end_time": "2024-06-15T19:49:02.619934",
     "exception": false,
     "start_time": "2024-06-15T19:48:57.956612",
     "status": "completed"
    },
    "tags": []
   },
   "outputs": [],
   "source": [
    "# if you want to train the tokenizer from scratch (especially if you have custom\n",
    "# dataset loaded as datasets object), then run this cell to save it as files\n",
    "# but if you already have your custom data as text files, there is no point using this\n",
    "def dataset_to_text(dataset, output_filename=\"data.txt\"):\n",
    "  \"\"\"Utility function to save dataset text to disk,\n",
    "  useful for using the texts to train the tokenizer\n",
    "  (as the tokenizer accepts files)\"\"\"\n",
    "  with open(output_filename, \"w\") as f:\n",
    "    for t in dataset[\"text\"]:\n",
    "      print(t, file=f)\n",
    "\n",
    "# save the training set to train.txt\n",
    "dataset_to_text(d[\"train\"], \"train.txt\")\n",
    "# save the testing set to test.txt\n",
    "dataset_to_text(d[\"test\"], \"test.txt\")"
   ]
  },
  {
   "cell_type": "code",
   "execution_count": 8,
   "id": "890bc955",
   "metadata": {
    "execution": {
     "iopub.execute_input": "2024-06-15T19:49:02.640529Z",
     "iopub.status.busy": "2024-06-15T19:49:02.640182Z",
     "iopub.status.idle": "2024-06-15T19:49:02.645101Z",
     "shell.execute_reply": "2024-06-15T19:49:02.644317Z"
    },
    "papermill": {
     "duration": 0.017286,
     "end_time": "2024-06-15T19:49:02.646959",
     "exception": false,
     "start_time": "2024-06-15T19:49:02.629673",
     "status": "completed"
    },
    "tags": []
   },
   "outputs": [],
   "source": [
    "special_tokens = [\n",
    "  \"[PAD]\", \"[UNK]\", \"[CLS]\", \"[SEP]\", \"[MASK]\", \"<S>\", \"<T>\"\n",
    "]\n",
    "# if you want to train the tokenizer on both sets\n",
    "# files = [\"train.txt\", \"test.txt\"]\n",
    "# training the tokenizer on the training set\n",
    "files = [\"train.txt\"]\n",
    "# 30,522 vocab is BERT's default vocab size, feel free to tweak\n",
    "vocab_size = 20_000\n",
    "# maximum sequence length, lowering will result to faster training (when increasing batch size)\n",
    "max_length = 512\n",
    "# whether to truncate\n",
    "truncate_longer_samples = True"
   ]
  },
  {
   "cell_type": "code",
   "execution_count": 9,
   "id": "004820a7",
   "metadata": {
    "execution": {
     "iopub.execute_input": "2024-06-15T19:49:02.666574Z",
     "iopub.status.busy": "2024-06-15T19:49:02.666285Z",
     "iopub.status.idle": "2024-06-15T19:50:08.827476Z",
     "shell.execute_reply": "2024-06-15T19:50:08.826519Z"
    },
    "papermill": {
     "duration": 66.173383,
     "end_time": "2024-06-15T19:50:08.829675",
     "exception": false,
     "start_time": "2024-06-15T19:49:02.656292",
     "status": "completed"
    },
    "tags": []
   },
   "outputs": [
    {
     "name": "stdout",
     "output_type": "stream",
     "text": [
      "\n",
      "\n",
      "\n"
     ]
    }
   ],
   "source": [
    "# initialize the WordPiece tokenizer\n",
    "tokenizer = tokenizers.BertWordPieceTokenizer()\n",
    "# train the tokenizer\n",
    "tokenizer.train(files=files, vocab_size=vocab_size, special_tokens=special_tokens)\n",
    "# enable truncation up to the maximum 512 tokens\n",
    "tokenizer.enable_truncation(max_length=max_length)"
   ]
  },
  {
   "cell_type": "code",
   "execution_count": 10,
   "id": "d321a78f",
   "metadata": {
    "execution": {
     "iopub.execute_input": "2024-06-15T19:50:08.850692Z",
     "iopub.status.busy": "2024-06-15T19:50:08.850276Z",
     "iopub.status.idle": "2024-06-15T19:50:08.854992Z",
     "shell.execute_reply": "2024-06-15T19:50:08.854135Z"
    },
    "papermill": {
     "duration": 0.017303,
     "end_time": "2024-06-15T19:50:08.856767",
     "exception": false,
     "start_time": "2024-06-15T19:50:08.839464",
     "status": "completed"
    },
    "tags": []
   },
   "outputs": [],
   "source": [
    "model_path = \"shafee-bert\"\n",
    "# make the directory if not already there\n",
    "if not os.path.isdir(model_path):\n",
    "  os.mkdir(model_path)"
   ]
  },
  {
   "cell_type": "code",
   "execution_count": 11,
   "id": "5a4bfd4a",
   "metadata": {
    "execution": {
     "iopub.execute_input": "2024-06-15T19:50:08.876912Z",
     "iopub.status.busy": "2024-06-15T19:50:08.876609Z",
     "iopub.status.idle": "2024-06-15T19:50:08.890434Z",
     "shell.execute_reply": "2024-06-15T19:50:08.889364Z"
    },
    "papermill": {
     "duration": 0.026128,
     "end_time": "2024-06-15T19:50:08.892359",
     "exception": false,
     "start_time": "2024-06-15T19:50:08.866231",
     "status": "completed"
    },
    "tags": []
   },
   "outputs": [
    {
     "data": {
      "text/plain": [
       "['shafee-bert/vocab.txt']"
      ]
     },
     "execution_count": 11,
     "metadata": {},
     "output_type": "execute_result"
    }
   ],
   "source": [
    "# save the tokenizer\n",
    "tokenizer.save_model(model_path)"
   ]
  },
  {
   "cell_type": "code",
   "execution_count": 12,
   "id": "edb26655",
   "metadata": {
    "execution": {
     "iopub.execute_input": "2024-06-15T19:50:08.912833Z",
     "iopub.status.busy": "2024-06-15T19:50:08.912572Z",
     "iopub.status.idle": "2024-06-15T19:50:08.918117Z",
     "shell.execute_reply": "2024-06-15T19:50:08.917444Z"
    },
    "papermill": {
     "duration": 0.017971,
     "end_time": "2024-06-15T19:50:08.919922",
     "exception": false,
     "start_time": "2024-06-15T19:50:08.901951",
     "status": "completed"
    },
    "tags": []
   },
   "outputs": [],
   "source": [
    "# dumping some of the tokenizer config to config file,\n",
    "# including special tokens, whether to lower case and the maximum sequence length\n",
    "with open(os.path.join(model_path, \"config.json\"), \"w\") as f:\n",
    "  tokenizer_cfg = {\n",
    "      \"do_lower_case\": True,\n",
    "      \"unk_token\": \"[UNK]\",\n",
    "      \"sep_token\": \"[SEP]\",\n",
    "      \"pad_token\": \"[PAD]\",\n",
    "      \"cls_token\": \"[CLS]\",\n",
    "      \"mask_token\": \"[MASK]\",\n",
    "      \"model_max_length\": max_length,\n",
    "      \"max_len\": max_length,\n",
    "  }\n",
    "  json.dump(tokenizer_cfg, f)"
   ]
  },
  {
   "cell_type": "code",
   "execution_count": 13,
   "id": "8271d35e",
   "metadata": {
    "execution": {
     "iopub.execute_input": "2024-06-15T19:50:08.940630Z",
     "iopub.status.busy": "2024-06-15T19:50:08.940358Z",
     "iopub.status.idle": "2024-06-15T19:50:09.074966Z",
     "shell.execute_reply": "2024-06-15T19:50:09.074235Z"
    },
    "papermill": {
     "duration": 0.147314,
     "end_time": "2024-06-15T19:50:09.076975",
     "exception": false,
     "start_time": "2024-06-15T19:50:08.929661",
     "status": "completed"
    },
    "tags": []
   },
   "outputs": [],
   "source": [
    "# when the tokenizer is trained and configured, load it as BertTokenizerFast\n",
    "tokenizer = transformers.BertTokenizerFast.from_pretrained(model_path)"
   ]
  },
  {
   "cell_type": "code",
   "execution_count": 14,
   "id": "be25f7ff",
   "metadata": {
    "execution": {
     "iopub.execute_input": "2024-06-15T19:50:09.097965Z",
     "iopub.status.busy": "2024-06-15T19:50:09.097684Z",
     "iopub.status.idle": "2024-06-15T19:53:02.095789Z",
     "shell.execute_reply": "2024-06-15T19:53:02.094958Z"
    },
    "papermill": {
     "duration": 173.011292,
     "end_time": "2024-06-15T19:53:02.098031",
     "exception": false,
     "start_time": "2024-06-15T19:50:09.086739",
     "status": "completed"
    },
    "tags": []
   },
   "outputs": [
    {
     "data": {
      "application/vnd.jupyter.widget-view+json": {
       "model_id": "b695bcdc69e64e17ab046c3b8e668101",
       "version_major": 2,
       "version_minor": 0
      },
      "text/plain": [
       "Map:   0%|          | 0/182970 [00:00<?, ? examples/s]"
      ]
     },
     "metadata": {},
     "output_type": "display_data"
    },
    {
     "data": {
      "application/vnd.jupyter.widget-view+json": {
       "model_id": "6115e53716f64862bbdfebf3c4064194",
       "version_major": 2,
       "version_minor": 0
      },
      "text/plain": [
       "Map:   0%|          | 0/1849 [00:00<?, ? examples/s]"
      ]
     },
     "metadata": {},
     "output_type": "display_data"
    }
   ],
   "source": [
    "def encode_with_truncation(examples):\n",
    "  \"\"\"Mapping function to tokenize the sentences passed with truncation\"\"\"\n",
    "  return tokenizer(examples[\"text\"], truncation=True, padding=\"max_length\",\n",
    "                   max_length=max_length, return_special_tokens_mask=True)\n",
    "\n",
    "def encode_without_truncation(examples):\n",
    "  \"\"\"Mapping function to tokenize the sentences passed without truncation\"\"\"\n",
    "  return tokenizer(examples[\"text\"], return_special_tokens_mask=True)\n",
    "\n",
    "# the encode function will depend on the truncate_longer_samples variable\n",
    "encode = encode_with_truncation if truncate_longer_samples else encode_without_truncation\n",
    "\n",
    "# tokenizing the train dataset\n",
    "train_dataset = d[\"train\"].map(encode, batched=True)\n",
    "# tokenizing the testing dataset\n",
    "test_dataset = d[\"test\"].map(encode, batched=True)\n",
    "\n",
    "if truncate_longer_samples:\n",
    "  # remove other columns and set input_ids and attention_mask as PyTorch tensors\n",
    "  train_dataset.set_format(type=\"torch\", columns=[\"input_ids\", \"attention_mask\"])\n",
    "  test_dataset.set_format(type=\"torch\", columns=[\"input_ids\", \"attention_mask\"])\n",
    "else:\n",
    "  # remove other columns, and remain them as Python lists\n",
    "  test_dataset.set_format(columns=[\"input_ids\", \"attention_mask\", \"special_tokens_mask\"])\n",
    "  train_dataset.set_format(columns=[\"input_ids\", \"attention_mask\", \"special_tokens_mask\"])"
   ]
  },
  {
   "cell_type": "code",
   "execution_count": 15,
   "id": "42c95695",
   "metadata": {
    "execution": {
     "iopub.execute_input": "2024-06-15T19:53:02.119865Z",
     "iopub.status.busy": "2024-06-15T19:53:02.119358Z",
     "iopub.status.idle": "2024-06-15T19:53:02.127795Z",
     "shell.execute_reply": "2024-06-15T19:53:02.127023Z"
    },
    "papermill": {
     "duration": 0.021178,
     "end_time": "2024-06-15T19:53:02.129556",
     "exception": false,
     "start_time": "2024-06-15T19:53:02.108378",
     "status": "completed"
    },
    "tags": []
   },
   "outputs": [],
   "source": [
    "from itertools import chain\n",
    "# Main data processing function that will concatenate all texts from our dataset and generate chunks of\n",
    "# max_seq_length.\n",
    "# grabbed from: https://github.com/huggingface/transformers/blob/main/examples/pytorch/language-modeling/run_mlm.py\n",
    "def group_texts(examples):\n",
    "    # Concatenate all texts.\n",
    "#     print(\"examples structure:\", {k: type(v) for k, v in examples.items()})\n",
    "#     examples.pop('row_number', None)\n",
    "    concatenated_examples = {k: list(chain(*examples[k])) for k in examples.keys()}\n",
    "    total_length = len(concatenated_examples[list(examples.keys())[0]])\n",
    "    # We drop the small remainder, we could add padding if the model supported it instead of this drop, you can\n",
    "    # customize this part to your needs.\n",
    "    if total_length >= max_length:\n",
    "        total_length = (total_length // max_length) * max_length\n",
    "    # Split by chunks of max_len.\n",
    "    result = {\n",
    "        k: [t[i : i + max_length] for i in range(0, total_length, max_length)]\n",
    "        for k, t in concatenated_examples.items()\n",
    "    }\n",
    "    return result\n",
    "\n",
    "\n",
    "# Note that with `batched=True`, this map processes 1,000 texts together, so group_texts throws away a\n",
    "# remainder for each of those groups of 1,000 texts. You can adjust that batch_size here but a higher value\n",
    "# might be slower to preprocess.\n",
    "#\n",
    "# To speed up this part, we use multiprocessing. See the documentation of the map method for more information:\n",
    "# https://huggingface.co/docs/datasets/package_reference/main_classes.html#datasets.Dataset.map\n",
    "if not truncate_longer_samples:\n",
    "  train_dataset = train_dataset.map(group_texts, batched=True,\n",
    "                                    desc=f\"Grouping texts in chunks of {max_length}\")\n",
    "  test_dataset = test_dataset.map(group_texts, batched=True,\n",
    "                                  desc=f\"Grouping texts in chunks of {max_length}\")\n",
    "  # convert them from lists to torch tensors\n",
    "  train_dataset.set_format(\"torch\")\n",
    "  test_dataset.set_format(\"torch\")"
   ]
  },
  {
   "cell_type": "code",
   "execution_count": 16,
   "id": "655099bf",
   "metadata": {
    "execution": {
     "iopub.execute_input": "2024-06-15T19:53:02.150461Z",
     "iopub.status.busy": "2024-06-15T19:53:02.150190Z",
     "iopub.status.idle": "2024-06-15T19:53:02.155450Z",
     "shell.execute_reply": "2024-06-15T19:53:02.154711Z"
    },
    "papermill": {
     "duration": 0.01758,
     "end_time": "2024-06-15T19:53:02.157148",
     "exception": false,
     "start_time": "2024-06-15T19:53:02.139568",
     "status": "completed"
    },
    "tags": []
   },
   "outputs": [
    {
     "data": {
      "text/plain": [
       "(182970, 1849)"
      ]
     },
     "execution_count": 16,
     "metadata": {},
     "output_type": "execute_result"
    }
   ],
   "source": [
    "len(train_dataset), len(test_dataset)"
   ]
  },
  {
   "cell_type": "code",
   "execution_count": 17,
   "id": "c935de16",
   "metadata": {
    "execution": {
     "iopub.execute_input": "2024-06-15T19:53:02.178337Z",
     "iopub.status.busy": "2024-06-15T19:53:02.178054Z",
     "iopub.status.idle": "2024-06-15T19:53:05.004366Z",
     "shell.execute_reply": "2024-06-15T19:53:05.003363Z"
    },
    "papermill": {
     "duration": 2.839518,
     "end_time": "2024-06-15T19:53:05.006717",
     "exception": false,
     "start_time": "2024-06-15T19:53:02.167199",
     "status": "completed"
    },
    "tags": []
   },
   "outputs": [],
   "source": [
    "# initialize the model with the config\n",
    "model_config = transformers.BertConfig(vocab_size=vocab_size, max_position_embeddings=max_length)\n",
    "model = transformers.BertForMaskedLM(config=model_config)"
   ]
  },
  {
   "cell_type": "code",
   "execution_count": 18,
   "id": "e0c278a5",
   "metadata": {
    "execution": {
     "iopub.execute_input": "2024-06-15T19:53:05.028935Z",
     "iopub.status.busy": "2024-06-15T19:53:05.028634Z",
     "iopub.status.idle": "2024-06-15T19:53:18.449002Z",
     "shell.execute_reply": "2024-06-15T19:53:18.448190Z"
    },
    "papermill": {
     "duration": 13.433766,
     "end_time": "2024-06-15T19:53:18.451278",
     "exception": false,
     "start_time": "2024-06-15T19:53:05.017512",
     "status": "completed"
    },
    "tags": []
   },
   "outputs": [
    {
     "name": "stderr",
     "output_type": "stream",
     "text": [
      "2024-06-15 19:53:08.387895: E external/local_xla/xla/stream_executor/cuda/cuda_dnn.cc:9261] Unable to register cuDNN factory: Attempting to register factory for plugin cuDNN when one has already been registered\n",
      "2024-06-15 19:53:08.388007: E external/local_xla/xla/stream_executor/cuda/cuda_fft.cc:607] Unable to register cuFFT factory: Attempting to register factory for plugin cuFFT when one has already been registered\n",
      "2024-06-15 19:53:08.544969: E external/local_xla/xla/stream_executor/cuda/cuda_blas.cc:1515] Unable to register cuBLAS factory: Attempting to register factory for plugin cuBLAS when one has already been registered\n"
     ]
    }
   ],
   "source": [
    "# initialize the data collator, randomly masking 20% (default is 15%) of the tokens for the Masked Language\n",
    "# Modeling (MLM) task\n",
    "# data_collator = transformers.DataCollatorForLanguageModeling(\n",
    "#     tokenizer=tokenizer, mlm=True, mlm_probability=0.2\n",
    "# )\n",
    "\n",
    "data_collator = transformers.DataCollatorForLanguageModeling(\n",
    "    tokenizer=tokenizer, mlm=True, mlm_probability=0.2,\n",
    "    # Make sure all tensors are long type\n",
    "    return_tensors='pt'\n",
    ")"
   ]
  },
  {
   "cell_type": "code",
   "execution_count": null,
   "id": "204e717b",
   "metadata": {
    "execution": {
     "iopub.execute_input": "2024-06-15T12:28:17.881289Z",
     "iopub.status.busy": "2024-06-15T12:28:17.880645Z",
     "iopub.status.idle": "2024-06-15T12:28:17.890504Z",
     "shell.execute_reply": "2024-06-15T12:28:17.888571Z",
     "shell.execute_reply.started": "2024-06-15T12:28:17.881249Z"
    },
    "papermill": {
     "duration": null,
     "end_time": null,
     "exception": null,
     "start_time": null,
     "status": "pending"
    },
    "tags": []
   },
   "outputs": [],
   "source": [
    "training_args = transformers.TrainingArguments(\n",
    "    output_dir=model_path,          # output directory to where save model checkpoint\n",
    "    evaluation_strategy=\"steps\",    # evaluate each `logging_steps` steps\n",
    "    overwrite_output_dir=True,\n",
    "    num_train_epochs=10,            # number of training epochs, feel free to tweak\n",
    "    per_device_train_batch_size=10, # the training batch size, put it as high as your GPU memory fits\n",
    "    gradient_accumulation_steps=8,  # accumulating the gradients before updating the weights\n",
    "    per_device_eval_batch_size=64,  # evaluation batch size\n",
    "    logging_steps=1000,             # evaluate, log and save model checkpoints every 1000 step\n",
    "    save_steps=1000,\n",
    "    report_to=\"wandb\"\n",
    "    # load_best_model_at_end=True,  # whether to load the best model (in terms of loss) at the end of training\n",
    "    # save_total_limit=3,           # whether you don't have much space so you let only 3 model weights saved in the disk\n",
    ")"
   ]
  },
  {
   "cell_type": "code",
   "execution_count": null,
   "id": "cf97b577",
   "metadata": {
    "execution": {
     "iopub.execute_input": "2024-06-15T12:29:08.761478Z",
     "iopub.status.busy": "2024-06-15T12:29:08.760758Z",
     "iopub.status.idle": "2024-06-15T12:29:09.079440Z",
     "shell.execute_reply": "2024-06-15T12:29:09.078219Z",
     "shell.execute_reply.started": "2024-06-15T12:29:08.761443Z"
    },
    "papermill": {
     "duration": null,
     "end_time": null,
     "exception": null,
     "start_time": null,
     "status": "pending"
    },
    "tags": []
   },
   "outputs": [],
   "source": [
    "# initialize the trainer and pass everything to it\n",
    "trainer = transformers.Trainer(\n",
    "    model=model,\n",
    "    args=training_args,\n",
    "    data_collator=data_collator,\n",
    "    train_dataset=train_dataset,\n",
    "    eval_dataset=test_dataset,\n",
    ")"
   ]
  },
  {
   "cell_type": "code",
   "execution_count": null,
   "id": "356ef9ae",
   "metadata": {
    "execution": {
     "iopub.execute_input": "2024-06-15T12:29:13.980731Z",
     "iopub.status.busy": "2024-06-15T12:29:13.980376Z"
    },
    "papermill": {
     "duration": null,
     "end_time": null,
     "exception": null,
     "start_time": null,
     "status": "pending"
    },
    "tags": []
   },
   "outputs": [],
   "source": [
    "# train the model\n",
    "trainer.train()"
   ]
  }
 ],
 "metadata": {
  "kaggle": {
   "accelerator": "nvidiaTeslaT4",
   "dataSources": [],
   "dockerImageVersionId": 30733,
   "isGpuEnabled": true,
   "isInternetEnabled": true,
   "language": "python",
   "sourceType": "notebook"
  },
  "kernelspec": {
   "display_name": "Python 3",
   "language": "python",
   "name": "python3"
  },
  "language_info": {
   "codemirror_mode": {
    "name": "ipython",
    "version": 3
   },
   "file_extension": ".py",
   "mimetype": "text/x-python",
   "name": "python",
   "nbconvert_exporter": "python",
   "pygments_lexer": "ipython3",
   "version": "3.10.13"
  },
  "papermill": {
   "default_parameters": {},
   "duration": 319.5021,
   "end_time": "2024-06-15T19:53:24.025667",
   "environment_variables": {},
   "exception": true,
   "input_path": "__notebook__.ipynb",
   "output_path": "__notebook__.ipynb",
   "parameters": {},
   "start_time": "2024-06-15T19:48:04.523567",
   "version": "2.5.0"
  },
  "widgets": {
   "application/vnd.jupyter.widget-state+json": {
    "state": {
     "016547eba2134b31b36130774e19b13c": {
      "model_module": "@jupyter-widgets/controls",
      "model_module_version": "1.5.0",
      "model_name": "ProgressStyleModel",
      "state": {
       "_model_module": "@jupyter-widgets/controls",
       "_model_module_version": "1.5.0",
       "_model_name": "ProgressStyleModel",
       "_view_count": null,
       "_view_module": "@jupyter-widgets/base",
       "_view_module_version": "1.2.0",
       "_view_name": "StyleView",
       "bar_color": null,
       "description_width": ""
      }
     },
     "0d7665c7b4934d3baae0a8c682a6953f": {
      "model_module": "@jupyter-widgets/base",
      "model_module_version": "1.2.0",
      "model_name": "LayoutModel",
      "state": {
       "_model_module": "@jupyter-widgets/base",
       "_model_module_version": "1.2.0",
       "_model_name": "LayoutModel",
       "_view_count": null,
       "_view_module": "@jupyter-widgets/base",
       "_view_module_version": "1.2.0",
       "_view_name": "LayoutView",
       "align_content": null,
       "align_items": null,
       "align_self": null,
       "border": null,
       "bottom": null,
       "display": null,
       "flex": null,
       "flex_flow": null,
       "grid_area": null,
       "grid_auto_columns": null,
       "grid_auto_flow": null,
       "grid_auto_rows": null,
       "grid_column": null,
       "grid_gap": null,
       "grid_row": null,
       "grid_template_areas": null,
       "grid_template_columns": null,
       "grid_template_rows": null,
       "height": null,
       "justify_content": null,
       "justify_items": null,
       "left": null,
       "margin": null,
       "max_height": null,
       "max_width": null,
       "min_height": null,
       "min_width": null,
       "object_fit": null,
       "object_position": null,
       "order": null,
       "overflow": null,
       "overflow_x": null,
       "overflow_y": null,
       "padding": null,
       "right": null,
       "top": null,
       "visibility": null,
       "width": null
      }
     },
     "11a133a9f6b448cd96f797b4f45cb6cf": {
      "model_module": "@jupyter-widgets/controls",
      "model_module_version": "1.5.0",
      "model_name": "DescriptionStyleModel",
      "state": {
       "_model_module": "@jupyter-widgets/controls",
       "_model_module_version": "1.5.0",
       "_model_name": "DescriptionStyleModel",
       "_view_count": null,
       "_view_module": "@jupyter-widgets/base",
       "_view_module_version": "1.2.0",
       "_view_name": "StyleView",
       "description_width": ""
      }
     },
     "1b1b4a44b7c24e2988253576519c3d7d": {
      "model_module": "@jupyter-widgets/base",
      "model_module_version": "1.2.0",
      "model_name": "LayoutModel",
      "state": {
       "_model_module": "@jupyter-widgets/base",
       "_model_module_version": "1.2.0",
       "_model_name": "LayoutModel",
       "_view_count": null,
       "_view_module": "@jupyter-widgets/base",
       "_view_module_version": "1.2.0",
       "_view_name": "LayoutView",
       "align_content": null,
       "align_items": null,
       "align_self": null,
       "border": null,
       "bottom": null,
       "display": null,
       "flex": null,
       "flex_flow": null,
       "grid_area": null,
       "grid_auto_columns": null,
       "grid_auto_flow": null,
       "grid_auto_rows": null,
       "grid_column": null,
       "grid_gap": null,
       "grid_row": null,
       "grid_template_areas": null,
       "grid_template_columns": null,
       "grid_template_rows": null,
       "height": null,
       "justify_content": null,
       "justify_items": null,
       "left": null,
       "margin": null,
       "max_height": null,
       "max_width": null,
       "min_height": null,
       "min_width": null,
       "object_fit": null,
       "object_position": null,
       "order": null,
       "overflow": null,
       "overflow_x": null,
       "overflow_y": null,
       "padding": null,
       "right": null,
       "top": null,
       "visibility": null,
       "width": null
      }
     },
     "23aea3ac61be434b8f1e3373394a862e": {
      "model_module": "@jupyter-widgets/controls",
      "model_module_version": "1.5.0",
      "model_name": "HTMLModel",
      "state": {
       "_dom_classes": [],
       "_model_module": "@jupyter-widgets/controls",
       "_model_module_version": "1.5.0",
       "_model_name": "HTMLModel",
       "_view_count": null,
       "_view_module": "@jupyter-widgets/controls",
       "_view_module_version": "1.5.0",
       "_view_name": "HTMLView",
       "description": "",
       "description_tooltip": null,
       "layout": "IPY_MODEL_cf3f408abddf4da4a72a7e801cd07b42",
       "placeholder": "​",
       "style": "IPY_MODEL_4d73a4dad0f74ac78961ee7a8cde3395",
       "value": "Map: 100%"
      }
     },
     "272f02f92fef480ba08331b60eb77eea": {
      "model_module": "@jupyter-widgets/base",
      "model_module_version": "1.2.0",
      "model_name": "LayoutModel",
      "state": {
       "_model_module": "@jupyter-widgets/base",
       "_model_module_version": "1.2.0",
       "_model_name": "LayoutModel",
       "_view_count": null,
       "_view_module": "@jupyter-widgets/base",
       "_view_module_version": "1.2.0",
       "_view_name": "LayoutView",
       "align_content": null,
       "align_items": null,
       "align_self": null,
       "border": null,
       "bottom": null,
       "display": null,
       "flex": null,
       "flex_flow": null,
       "grid_area": null,
       "grid_auto_columns": null,
       "grid_auto_flow": null,
       "grid_auto_rows": null,
       "grid_column": null,
       "grid_gap": null,
       "grid_row": null,
       "grid_template_areas": null,
       "grid_template_columns": null,
       "grid_template_rows": null,
       "height": null,
       "justify_content": null,
       "justify_items": null,
       "left": null,
       "margin": null,
       "max_height": null,
       "max_width": null,
       "min_height": null,
       "min_width": null,
       "object_fit": null,
       "object_position": null,
       "order": null,
       "overflow": null,
       "overflow_x": null,
       "overflow_y": null,
       "padding": null,
       "right": null,
       "top": null,
       "visibility": null,
       "width": null
      }
     },
     "2bc521dec0d346d8841d891283bc887e": {
      "model_module": "@jupyter-widgets/base",
      "model_module_version": "1.2.0",
      "model_name": "LayoutModel",
      "state": {
       "_model_module": "@jupyter-widgets/base",
       "_model_module_version": "1.2.0",
       "_model_name": "LayoutModel",
       "_view_count": null,
       "_view_module": "@jupyter-widgets/base",
       "_view_module_version": "1.2.0",
       "_view_name": "LayoutView",
       "align_content": null,
       "align_items": null,
       "align_self": null,
       "border": null,
       "bottom": null,
       "display": null,
       "flex": null,
       "flex_flow": null,
       "grid_area": null,
       "grid_auto_columns": null,
       "grid_auto_flow": null,
       "grid_auto_rows": null,
       "grid_column": null,
       "grid_gap": null,
       "grid_row": null,
       "grid_template_areas": null,
       "grid_template_columns": null,
       "grid_template_rows": null,
       "height": null,
       "justify_content": null,
       "justify_items": null,
       "left": null,
       "margin": null,
       "max_height": null,
       "max_width": null,
       "min_height": null,
       "min_width": null,
       "object_fit": null,
       "object_position": null,
       "order": null,
       "overflow": null,
       "overflow_x": null,
       "overflow_y": null,
       "padding": null,
       "right": null,
       "top": null,
       "visibility": null,
       "width": null
      }
     },
     "2ef14cc56f51451cbc30fb8631da4ac7": {
      "model_module": "@jupyter-widgets/controls",
      "model_module_version": "1.5.0",
      "model_name": "DescriptionStyleModel",
      "state": {
       "_model_module": "@jupyter-widgets/controls",
       "_model_module_version": "1.5.0",
       "_model_name": "DescriptionStyleModel",
       "_view_count": null,
       "_view_module": "@jupyter-widgets/base",
       "_view_module_version": "1.2.0",
       "_view_name": "StyleView",
       "description_width": ""
      }
     },
     "3207cc9e85154ddbac83a08099eab593": {
      "model_module": "@jupyter-widgets/controls",
      "model_module_version": "1.5.0",
      "model_name": "HBoxModel",
      "state": {
       "_dom_classes": [],
       "_model_module": "@jupyter-widgets/controls",
       "_model_module_version": "1.5.0",
       "_model_name": "HBoxModel",
       "_view_count": null,
       "_view_module": "@jupyter-widgets/controls",
       "_view_module_version": "1.5.0",
       "_view_name": "HBoxView",
       "box_style": "",
       "children": [
        "IPY_MODEL_6303633e3ec348679024dd1dfbc41208",
        "IPY_MODEL_620527d463024528b933af5c95c16872",
        "IPY_MODEL_3d8aca24ec824001bf092f59822d6403"
       ],
       "layout": "IPY_MODEL_78d6ed43fca84357b8b05e639540cfc2"
      }
     },
     "34839f7b5f28439aa9d430a0c286e263": {
      "model_module": "@jupyter-widgets/controls",
      "model_module_version": "1.5.0",
      "model_name": "HTMLModel",
      "state": {
       "_dom_classes": [],
       "_model_module": "@jupyter-widgets/controls",
       "_model_module_version": "1.5.0",
       "_model_name": "HTMLModel",
       "_view_count": null,
       "_view_module": "@jupyter-widgets/controls",
       "_view_module_version": "1.5.0",
       "_view_name": "HTMLView",
       "description": "",
       "description_tooltip": null,
       "layout": "IPY_MODEL_c1762f685cd9490bae0140e05820f927",
       "placeholder": "​",
       "style": "IPY_MODEL_3f3abf6ee3e9423dbed709284866e776",
       "value": " 561M/561M [00:03&lt;00:00, 210MB/s]"
      }
     },
     "3a560ec1962b4691b952fefe36e43f90": {
      "model_module": "@jupyter-widgets/base",
      "model_module_version": "1.2.0",
      "model_name": "LayoutModel",
      "state": {
       "_model_module": "@jupyter-widgets/base",
       "_model_module_version": "1.2.0",
       "_model_name": "LayoutModel",
       "_view_count": null,
       "_view_module": "@jupyter-widgets/base",
       "_view_module_version": "1.2.0",
       "_view_name": "LayoutView",
       "align_content": null,
       "align_items": null,
       "align_self": null,
       "border": null,
       "bottom": null,
       "display": null,
       "flex": null,
       "flex_flow": null,
       "grid_area": null,
       "grid_auto_columns": null,
       "grid_auto_flow": null,
       "grid_auto_rows": null,
       "grid_column": null,
       "grid_gap": null,
       "grid_row": null,
       "grid_template_areas": null,
       "grid_template_columns": null,
       "grid_template_rows": null,
       "height": null,
       "justify_content": null,
       "justify_items": null,
       "left": null,
       "margin": null,
       "max_height": null,
       "max_width": null,
       "min_height": null,
       "min_width": null,
       "object_fit": null,
       "object_position": null,
       "order": null,
       "overflow": null,
       "overflow_x": null,
       "overflow_y": null,
       "padding": null,
       "right": null,
       "top": null,
       "visibility": null,
       "width": null
      }
     },
     "3d8aca24ec824001bf092f59822d6403": {
      "model_module": "@jupyter-widgets/controls",
      "model_module_version": "1.5.0",
      "model_name": "HTMLModel",
      "state": {
       "_dom_classes": [],
       "_model_module": "@jupyter-widgets/controls",
       "_model_module_version": "1.5.0",
       "_model_name": "HTMLModel",
       "_view_count": null,
       "_view_module": "@jupyter-widgets/controls",
       "_view_module_version": "1.5.0",
       "_view_name": "HTMLView",
       "description": "",
       "description_tooltip": null,
       "layout": "IPY_MODEL_ca4827d9effa41519705013ae729b719",
       "placeholder": "​",
       "style": "IPY_MODEL_b5d95bda072947898f66dd8d9801f5d0",
       "value": " 184819/184819 [00:09&lt;00:00, 19265.82 examples/s]"
      }
     },
     "3f3abf6ee3e9423dbed709284866e776": {
      "model_module": "@jupyter-widgets/controls",
      "model_module_version": "1.5.0",
      "model_name": "DescriptionStyleModel",
      "state": {
       "_model_module": "@jupyter-widgets/controls",
       "_model_module_version": "1.5.0",
       "_model_name": "DescriptionStyleModel",
       "_view_count": null,
       "_view_module": "@jupyter-widgets/base",
       "_view_module_version": "1.2.0",
       "_view_name": "StyleView",
       "description_width": ""
      }
     },
     "40610602b90c4eefa86d5f37a1b1b604": {
      "model_module": "@jupyter-widgets/base",
      "model_module_version": "1.2.0",
      "model_name": "LayoutModel",
      "state": {
       "_model_module": "@jupyter-widgets/base",
       "_model_module_version": "1.2.0",
       "_model_name": "LayoutModel",
       "_view_count": null,
       "_view_module": "@jupyter-widgets/base",
       "_view_module_version": "1.2.0",
       "_view_name": "LayoutView",
       "align_content": null,
       "align_items": null,
       "align_self": null,
       "border": null,
       "bottom": null,
       "display": null,
       "flex": null,
       "flex_flow": null,
       "grid_area": null,
       "grid_auto_columns": null,
       "grid_auto_flow": null,
       "grid_auto_rows": null,
       "grid_column": null,
       "grid_gap": null,
       "grid_row": null,
       "grid_template_areas": null,
       "grid_template_columns": null,
       "grid_template_rows": null,
       "height": null,
       "justify_content": null,
       "justify_items": null,
       "left": null,
       "margin": null,
       "max_height": null,
       "max_width": null,
       "min_height": null,
       "min_width": null,
       "object_fit": null,
       "object_position": null,
       "order": null,
       "overflow": null,
       "overflow_x": null,
       "overflow_y": null,
       "padding": null,
       "right": null,
       "top": null,
       "visibility": null,
       "width": null
      }
     },
     "419a8b388cbc4fd7bc6853c4474a1788": {
      "model_module": "@jupyter-widgets/base",
      "model_module_version": "1.2.0",
      "model_name": "LayoutModel",
      "state": {
       "_model_module": "@jupyter-widgets/base",
       "_model_module_version": "1.2.0",
       "_model_name": "LayoutModel",
       "_view_count": null,
       "_view_module": "@jupyter-widgets/base",
       "_view_module_version": "1.2.0",
       "_view_name": "LayoutView",
       "align_content": null,
       "align_items": null,
       "align_self": null,
       "border": null,
       "bottom": null,
       "display": null,
       "flex": null,
       "flex_flow": null,
       "grid_area": null,
       "grid_auto_columns": null,
       "grid_auto_flow": null,
       "grid_auto_rows": null,
       "grid_column": null,
       "grid_gap": null,
       "grid_row": null,
       "grid_template_areas": null,
       "grid_template_columns": null,
       "grid_template_rows": null,
       "height": null,
       "justify_content": null,
       "justify_items": null,
       "left": null,
       "margin": null,
       "max_height": null,
       "max_width": null,
       "min_height": null,
       "min_width": null,
       "object_fit": null,
       "object_position": null,
       "order": null,
       "overflow": null,
       "overflow_x": null,
       "overflow_y": null,
       "padding": null,
       "right": null,
       "top": null,
       "visibility": null,
       "width": null
      }
     },
     "43871220e4fc443b89cc8a28597aa180": {
      "model_module": "@jupyter-widgets/controls",
      "model_module_version": "1.5.0",
      "model_name": "HTMLModel",
      "state": {
       "_dom_classes": [],
       "_model_module": "@jupyter-widgets/controls",
       "_model_module_version": "1.5.0",
       "_model_name": "HTMLModel",
       "_view_count": null,
       "_view_module": "@jupyter-widgets/controls",
       "_view_module_version": "1.5.0",
       "_view_name": "HTMLView",
       "description": "",
       "description_tooltip": null,
       "layout": "IPY_MODEL_1b1b4a44b7c24e2988253576519c3d7d",
       "placeholder": "​",
       "style": "IPY_MODEL_11a133a9f6b448cd96f797b4f45cb6cf",
       "value": " 1849/1849 [00:01&lt;00:00, 1081.19 examples/s]"
      }
     },
     "44dfdbd98aad4e5bb5bc704f9abdb676": {
      "model_module": "@jupyter-widgets/controls",
      "model_module_version": "1.5.0",
      "model_name": "ProgressStyleModel",
      "state": {
       "_model_module": "@jupyter-widgets/controls",
       "_model_module_version": "1.5.0",
       "_model_name": "ProgressStyleModel",
       "_view_count": null,
       "_view_module": "@jupyter-widgets/base",
       "_view_module_version": "1.2.0",
       "_view_name": "StyleView",
       "bar_color": null,
       "description_width": ""
      }
     },
     "4a89c67611154358bff0ab62d22b9cf1": {
      "model_module": "@jupyter-widgets/controls",
      "model_module_version": "1.5.0",
      "model_name": "HBoxModel",
      "state": {
       "_dom_classes": [],
       "_model_module": "@jupyter-widgets/controls",
       "_model_module_version": "1.5.0",
       "_model_name": "HBoxModel",
       "_view_count": null,
       "_view_module": "@jupyter-widgets/controls",
       "_view_module_version": "1.5.0",
       "_view_name": "HBoxView",
       "box_style": "",
       "children": [
        "IPY_MODEL_7a253f0ae8b64f8287f901c52fb21370",
        "IPY_MODEL_d1a232e69ef54601b606753c4ad5ce8a",
        "IPY_MODEL_a90390893f134a51807a7c8ac3d0b8ec"
       ],
       "layout": "IPY_MODEL_2bc521dec0d346d8841d891283bc887e"
      }
     },
     "4d73a4dad0f74ac78961ee7a8cde3395": {
      "model_module": "@jupyter-widgets/controls",
      "model_module_version": "1.5.0",
      "model_name": "DescriptionStyleModel",
      "state": {
       "_model_module": "@jupyter-widgets/controls",
       "_model_module_version": "1.5.0",
       "_model_name": "DescriptionStyleModel",
       "_view_count": null,
       "_view_module": "@jupyter-widgets/base",
       "_view_module_version": "1.2.0",
       "_view_name": "StyleView",
       "description_width": ""
      }
     },
     "532c4e8b19e14ac2869dd572b41b4dd2": {
      "model_module": "@jupyter-widgets/controls",
      "model_module_version": "1.5.0",
      "model_name": "FloatProgressModel",
      "state": {
       "_dom_classes": [],
       "_model_module": "@jupyter-widgets/controls",
       "_model_module_version": "1.5.0",
       "_model_name": "FloatProgressModel",
       "_view_count": null,
       "_view_module": "@jupyter-widgets/controls",
       "_view_module_version": "1.5.0",
       "_view_name": "ProgressView",
       "bar_style": "success",
       "description": "",
       "description_tooltip": null,
       "layout": "IPY_MODEL_0d7665c7b4934d3baae0a8c682a6953f",
       "max": 182970,
       "min": 0,
       "orientation": "horizontal",
       "style": "IPY_MODEL_016547eba2134b31b36130774e19b13c",
       "value": 182970
      }
     },
     "5adfdab3c5c3423abd53ada470a299ab": {
      "model_module": "@jupyter-widgets/controls",
      "model_module_version": "1.5.0",
      "model_name": "HTMLModel",
      "state": {
       "_dom_classes": [],
       "_model_module": "@jupyter-widgets/controls",
       "_model_module_version": "1.5.0",
       "_model_name": "HTMLModel",
       "_view_count": null,
       "_view_module": "@jupyter-widgets/controls",
       "_view_module_version": "1.5.0",
       "_view_name": "HTMLView",
       "description": "",
       "description_tooltip": null,
       "layout": "IPY_MODEL_feb7bb32346c4c4880d14fc4d9be4f9c",
       "placeholder": "​",
       "style": "IPY_MODEL_d3b5633ca29143b6be40494f776ee576",
       "value": " 182970/182970 [02:46&lt;00:00, 1108.81 examples/s]"
      }
     },
     "6115e53716f64862bbdfebf3c4064194": {
      "model_module": "@jupyter-widgets/controls",
      "model_module_version": "1.5.0",
      "model_name": "HBoxModel",
      "state": {
       "_dom_classes": [],
       "_model_module": "@jupyter-widgets/controls",
       "_model_module_version": "1.5.0",
       "_model_name": "HBoxModel",
       "_view_count": null,
       "_view_module": "@jupyter-widgets/controls",
       "_view_module_version": "1.5.0",
       "_view_name": "HBoxView",
       "box_style": "",
       "children": [
        "IPY_MODEL_ecb5d78c14544355bcec7c8ea16bff79",
        "IPY_MODEL_634270efac2f4b8cadb3a6f1d730233c",
        "IPY_MODEL_43871220e4fc443b89cc8a28597aa180"
       ],
       "layout": "IPY_MODEL_c102603809db4b82b749e0c11b46e633"
      }
     },
     "620527d463024528b933af5c95c16872": {
      "model_module": "@jupyter-widgets/controls",
      "model_module_version": "1.5.0",
      "model_name": "FloatProgressModel",
      "state": {
       "_dom_classes": [],
       "_model_module": "@jupyter-widgets/controls",
       "_model_module_version": "1.5.0",
       "_model_name": "FloatProgressModel",
       "_view_count": null,
       "_view_module": "@jupyter-widgets/controls",
       "_view_module_version": "1.5.0",
       "_view_name": "ProgressView",
       "bar_style": "success",
       "description": "",
       "description_tooltip": null,
       "layout": "IPY_MODEL_843db53a12df4fb3b117f34fae27d27b",
       "max": 184819,
       "min": 0,
       "orientation": "horizontal",
       "style": "IPY_MODEL_84eedd5eb72049ea9b922eda3c6242c6",
       "value": 184819
      }
     },
     "6303633e3ec348679024dd1dfbc41208": {
      "model_module": "@jupyter-widgets/controls",
      "model_module_version": "1.5.0",
      "model_name": "HTMLModel",
      "state": {
       "_dom_classes": [],
       "_model_module": "@jupyter-widgets/controls",
       "_model_module_version": "1.5.0",
       "_model_name": "HTMLModel",
       "_view_count": null,
       "_view_module": "@jupyter-widgets/controls",
       "_view_module_version": "1.5.0",
       "_view_name": "HTMLView",
       "description": "",
       "description_tooltip": null,
       "layout": "IPY_MODEL_c692e0e7463d4947acbdec85a7c7f587",
       "placeholder": "​",
       "style": "IPY_MODEL_660167b8bd8b467b8e90d5d94cab8dc2",
       "value": "Generating train split: 100%"
      }
     },
     "634270efac2f4b8cadb3a6f1d730233c": {
      "model_module": "@jupyter-widgets/controls",
      "model_module_version": "1.5.0",
      "model_name": "FloatProgressModel",
      "state": {
       "_dom_classes": [],
       "_model_module": "@jupyter-widgets/controls",
       "_model_module_version": "1.5.0",
       "_model_name": "FloatProgressModel",
       "_view_count": null,
       "_view_module": "@jupyter-widgets/controls",
       "_view_module_version": "1.5.0",
       "_view_name": "ProgressView",
       "bar_style": "success",
       "description": "",
       "description_tooltip": null,
       "layout": "IPY_MODEL_b1261fbf6f16428ab802d2d1f2804533",
       "max": 1849,
       "min": 0,
       "orientation": "horizontal",
       "style": "IPY_MODEL_6ea1557a313d455fb12d10b2c95dada0",
       "value": 1849
      }
     },
     "660167b8bd8b467b8e90d5d94cab8dc2": {
      "model_module": "@jupyter-widgets/controls",
      "model_module_version": "1.5.0",
      "model_name": "DescriptionStyleModel",
      "state": {
       "_model_module": "@jupyter-widgets/controls",
       "_model_module_version": "1.5.0",
       "_model_name": "DescriptionStyleModel",
       "_view_count": null,
       "_view_module": "@jupyter-widgets/base",
       "_view_module_version": "1.2.0",
       "_view_name": "StyleView",
       "description_width": ""
      }
     },
     "6ea1557a313d455fb12d10b2c95dada0": {
      "model_module": "@jupyter-widgets/controls",
      "model_module_version": "1.5.0",
      "model_name": "ProgressStyleModel",
      "state": {
       "_model_module": "@jupyter-widgets/controls",
       "_model_module_version": "1.5.0",
       "_model_name": "ProgressStyleModel",
       "_view_count": null,
       "_view_module": "@jupyter-widgets/base",
       "_view_module_version": "1.2.0",
       "_view_name": "StyleView",
       "bar_color": null,
       "description_width": ""
      }
     },
     "78d6ed43fca84357b8b05e639540cfc2": {
      "model_module": "@jupyter-widgets/base",
      "model_module_version": "1.2.0",
      "model_name": "LayoutModel",
      "state": {
       "_model_module": "@jupyter-widgets/base",
       "_model_module_version": "1.2.0",
       "_model_name": "LayoutModel",
       "_view_count": null,
       "_view_module": "@jupyter-widgets/base",
       "_view_module_version": "1.2.0",
       "_view_name": "LayoutView",
       "align_content": null,
       "align_items": null,
       "align_self": null,
       "border": null,
       "bottom": null,
       "display": null,
       "flex": null,
       "flex_flow": null,
       "grid_area": null,
       "grid_auto_columns": null,
       "grid_auto_flow": null,
       "grid_auto_rows": null,
       "grid_column": null,
       "grid_gap": null,
       "grid_row": null,
       "grid_template_areas": null,
       "grid_template_columns": null,
       "grid_template_rows": null,
       "height": null,
       "justify_content": null,
       "justify_items": null,
       "left": null,
       "margin": null,
       "max_height": null,
       "max_width": null,
       "min_height": null,
       "min_width": null,
       "object_fit": null,
       "object_position": null,
       "order": null,
       "overflow": null,
       "overflow_x": null,
       "overflow_y": null,
       "padding": null,
       "right": null,
       "top": null,
       "visibility": null,
       "width": null
      }
     },
     "7a253f0ae8b64f8287f901c52fb21370": {
      "model_module": "@jupyter-widgets/controls",
      "model_module_version": "1.5.0",
      "model_name": "HTMLModel",
      "state": {
       "_dom_classes": [],
       "_model_module": "@jupyter-widgets/controls",
       "_model_module_version": "1.5.0",
       "_model_name": "HTMLModel",
       "_view_count": null,
       "_view_module": "@jupyter-widgets/controls",
       "_view_module_version": "1.5.0",
       "_view_name": "HTMLView",
       "description": "",
       "description_tooltip": null,
       "layout": "IPY_MODEL_3a560ec1962b4691b952fefe36e43f90",
       "placeholder": "​",
       "style": "IPY_MODEL_9a82b50a68884149be18a24c1787059e",
       "value": "Computing checksums: 100%"
      }
     },
     "843db53a12df4fb3b117f34fae27d27b": {
      "model_module": "@jupyter-widgets/base",
      "model_module_version": "1.2.0",
      "model_name": "LayoutModel",
      "state": {
       "_model_module": "@jupyter-widgets/base",
       "_model_module_version": "1.2.0",
       "_model_name": "LayoutModel",
       "_view_count": null,
       "_view_module": "@jupyter-widgets/base",
       "_view_module_version": "1.2.0",
       "_view_name": "LayoutView",
       "align_content": null,
       "align_items": null,
       "align_self": null,
       "border": null,
       "bottom": null,
       "display": null,
       "flex": null,
       "flex_flow": null,
       "grid_area": null,
       "grid_auto_columns": null,
       "grid_auto_flow": null,
       "grid_auto_rows": null,
       "grid_column": null,
       "grid_gap": null,
       "grid_row": null,
       "grid_template_areas": null,
       "grid_template_columns": null,
       "grid_template_rows": null,
       "height": null,
       "justify_content": null,
       "justify_items": null,
       "left": null,
       "margin": null,
       "max_height": null,
       "max_width": null,
       "min_height": null,
       "min_width": null,
       "object_fit": null,
       "object_position": null,
       "order": null,
       "overflow": null,
       "overflow_x": null,
       "overflow_y": null,
       "padding": null,
       "right": null,
       "top": null,
       "visibility": null,
       "width": null
      }
     },
     "84eedd5eb72049ea9b922eda3c6242c6": {
      "model_module": "@jupyter-widgets/controls",
      "model_module_version": "1.5.0",
      "model_name": "ProgressStyleModel",
      "state": {
       "_model_module": "@jupyter-widgets/controls",
       "_model_module_version": "1.5.0",
       "_model_name": "ProgressStyleModel",
       "_view_count": null,
       "_view_module": "@jupyter-widgets/base",
       "_view_module_version": "1.2.0",
       "_view_name": "StyleView",
       "bar_color": null,
       "description_width": ""
      }
     },
     "87afdf8b8459442797b151709559c806": {
      "model_module": "@jupyter-widgets/controls",
      "model_module_version": "1.5.0",
      "model_name": "HBoxModel",
      "state": {
       "_dom_classes": [],
       "_model_module": "@jupyter-widgets/controls",
       "_model_module_version": "1.5.0",
       "_model_name": "HBoxModel",
       "_view_count": null,
       "_view_module": "@jupyter-widgets/controls",
       "_view_module_version": "1.5.0",
       "_view_name": "HBoxView",
       "box_style": "",
       "children": [
        "IPY_MODEL_f6f0bec2ef094837848fe7b3d4f8fab2",
        "IPY_MODEL_dc58d806c22240a3a95d62fb551e5b2a",
        "IPY_MODEL_34839f7b5f28439aa9d430a0c286e263"
       ],
       "layout": "IPY_MODEL_f8085130e30e4e88864bd3ac3ffc5050"
      }
     },
     "981d6f1fc85745ff9da698d1f0efb783": {
      "model_module": "@jupyter-widgets/base",
      "model_module_version": "1.2.0",
      "model_name": "LayoutModel",
      "state": {
       "_model_module": "@jupyter-widgets/base",
       "_model_module_version": "1.2.0",
       "_model_name": "LayoutModel",
       "_view_count": null,
       "_view_module": "@jupyter-widgets/base",
       "_view_module_version": "1.2.0",
       "_view_name": "LayoutView",
       "align_content": null,
       "align_items": null,
       "align_self": null,
       "border": null,
       "bottom": null,
       "display": null,
       "flex": null,
       "flex_flow": null,
       "grid_area": null,
       "grid_auto_columns": null,
       "grid_auto_flow": null,
       "grid_auto_rows": null,
       "grid_column": null,
       "grid_gap": null,
       "grid_row": null,
       "grid_template_areas": null,
       "grid_template_columns": null,
       "grid_template_rows": null,
       "height": null,
       "justify_content": null,
       "justify_items": null,
       "left": null,
       "margin": null,
       "max_height": null,
       "max_width": null,
       "min_height": null,
       "min_width": null,
       "object_fit": null,
       "object_position": null,
       "order": null,
       "overflow": null,
       "overflow_x": null,
       "overflow_y": null,
       "padding": null,
       "right": null,
       "top": null,
       "visibility": null,
       "width": null
      }
     },
     "9a82b50a68884149be18a24c1787059e": {
      "model_module": "@jupyter-widgets/controls",
      "model_module_version": "1.5.0",
      "model_name": "DescriptionStyleModel",
      "state": {
       "_model_module": "@jupyter-widgets/controls",
       "_model_module_version": "1.5.0",
       "_model_name": "DescriptionStyleModel",
       "_view_count": null,
       "_view_module": "@jupyter-widgets/base",
       "_view_module_version": "1.2.0",
       "_view_name": "StyleView",
       "description_width": ""
      }
     },
     "a90390893f134a51807a7c8ac3d0b8ec": {
      "model_module": "@jupyter-widgets/controls",
      "model_module_version": "1.5.0",
      "model_name": "HTMLModel",
      "state": {
       "_dom_classes": [],
       "_model_module": "@jupyter-widgets/controls",
       "_model_module_version": "1.5.0",
       "_model_name": "HTMLModel",
       "_view_count": null,
       "_view_module": "@jupyter-widgets/controls",
       "_view_module_version": "1.5.0",
       "_view_name": "HTMLView",
       "description": "",
       "description_tooltip": null,
       "layout": "IPY_MODEL_272f02f92fef480ba08331b60eb77eea",
       "placeholder": "​",
       "style": "IPY_MODEL_2ef14cc56f51451cbc30fb8631da4ac7",
       "value": " 1/1 [00:00&lt;00:00, 110.15it/s]"
      }
     },
     "b1261fbf6f16428ab802d2d1f2804533": {
      "model_module": "@jupyter-widgets/base",
      "model_module_version": "1.2.0",
      "model_name": "LayoutModel",
      "state": {
       "_model_module": "@jupyter-widgets/base",
       "_model_module_version": "1.2.0",
       "_model_name": "LayoutModel",
       "_view_count": null,
       "_view_module": "@jupyter-widgets/base",
       "_view_module_version": "1.2.0",
       "_view_name": "LayoutView",
       "align_content": null,
       "align_items": null,
       "align_self": null,
       "border": null,
       "bottom": null,
       "display": null,
       "flex": null,
       "flex_flow": null,
       "grid_area": null,
       "grid_auto_columns": null,
       "grid_auto_flow": null,
       "grid_auto_rows": null,
       "grid_column": null,
       "grid_gap": null,
       "grid_row": null,
       "grid_template_areas": null,
       "grid_template_columns": null,
       "grid_template_rows": null,
       "height": null,
       "justify_content": null,
       "justify_items": null,
       "left": null,
       "margin": null,
       "max_height": null,
       "max_width": null,
       "min_height": null,
       "min_width": null,
       "object_fit": null,
       "object_position": null,
       "order": null,
       "overflow": null,
       "overflow_x": null,
       "overflow_y": null,
       "padding": null,
       "right": null,
       "top": null,
       "visibility": null,
       "width": null
      }
     },
     "b1aac1f9ac364938b616a1846da6575b": {
      "model_module": "@jupyter-widgets/base",
      "model_module_version": "1.2.0",
      "model_name": "LayoutModel",
      "state": {
       "_model_module": "@jupyter-widgets/base",
       "_model_module_version": "1.2.0",
       "_model_name": "LayoutModel",
       "_view_count": null,
       "_view_module": "@jupyter-widgets/base",
       "_view_module_version": "1.2.0",
       "_view_name": "LayoutView",
       "align_content": null,
       "align_items": null,
       "align_self": null,
       "border": null,
       "bottom": null,
       "display": null,
       "flex": null,
       "flex_flow": null,
       "grid_area": null,
       "grid_auto_columns": null,
       "grid_auto_flow": null,
       "grid_auto_rows": null,
       "grid_column": null,
       "grid_gap": null,
       "grid_row": null,
       "grid_template_areas": null,
       "grid_template_columns": null,
       "grid_template_rows": null,
       "height": null,
       "justify_content": null,
       "justify_items": null,
       "left": null,
       "margin": null,
       "max_height": null,
       "max_width": null,
       "min_height": null,
       "min_width": null,
       "object_fit": null,
       "object_position": null,
       "order": null,
       "overflow": null,
       "overflow_x": null,
       "overflow_y": null,
       "padding": null,
       "right": null,
       "top": null,
       "visibility": null,
       "width": null
      }
     },
     "b5d95bda072947898f66dd8d9801f5d0": {
      "model_module": "@jupyter-widgets/controls",
      "model_module_version": "1.5.0",
      "model_name": "DescriptionStyleModel",
      "state": {
       "_model_module": "@jupyter-widgets/controls",
       "_model_module_version": "1.5.0",
       "_model_name": "DescriptionStyleModel",
       "_view_count": null,
       "_view_module": "@jupyter-widgets/base",
       "_view_module_version": "1.2.0",
       "_view_name": "StyleView",
       "description_width": ""
      }
     },
     "b695bcdc69e64e17ab046c3b8e668101": {
      "model_module": "@jupyter-widgets/controls",
      "model_module_version": "1.5.0",
      "model_name": "HBoxModel",
      "state": {
       "_dom_classes": [],
       "_model_module": "@jupyter-widgets/controls",
       "_model_module_version": "1.5.0",
       "_model_name": "HBoxModel",
       "_view_count": null,
       "_view_module": "@jupyter-widgets/controls",
       "_view_module_version": "1.5.0",
       "_view_name": "HBoxView",
       "box_style": "",
       "children": [
        "IPY_MODEL_23aea3ac61be434b8f1e3373394a862e",
        "IPY_MODEL_532c4e8b19e14ac2869dd572b41b4dd2",
        "IPY_MODEL_5adfdab3c5c3423abd53ada470a299ab"
       ],
       "layout": "IPY_MODEL_fb09e37e1dfa4748b0eb58fd4552ddac"
      }
     },
     "b81b0131ef5847ccb09f5c21fc31b00e": {
      "model_module": "@jupyter-widgets/controls",
      "model_module_version": "1.5.0",
      "model_name": "DescriptionStyleModel",
      "state": {
       "_model_module": "@jupyter-widgets/controls",
       "_model_module_version": "1.5.0",
       "_model_name": "DescriptionStyleModel",
       "_view_count": null,
       "_view_module": "@jupyter-widgets/base",
       "_view_module_version": "1.2.0",
       "_view_name": "StyleView",
       "description_width": ""
      }
     },
     "c0e1e9770a224783830e0bd3340bcabb": {
      "model_module": "@jupyter-widgets/controls",
      "model_module_version": "1.5.0",
      "model_name": "ProgressStyleModel",
      "state": {
       "_model_module": "@jupyter-widgets/controls",
       "_model_module_version": "1.5.0",
       "_model_name": "ProgressStyleModel",
       "_view_count": null,
       "_view_module": "@jupyter-widgets/base",
       "_view_module_version": "1.2.0",
       "_view_name": "StyleView",
       "bar_color": null,
       "description_width": ""
      }
     },
     "c102603809db4b82b749e0c11b46e633": {
      "model_module": "@jupyter-widgets/base",
      "model_module_version": "1.2.0",
      "model_name": "LayoutModel",
      "state": {
       "_model_module": "@jupyter-widgets/base",
       "_model_module_version": "1.2.0",
       "_model_name": "LayoutModel",
       "_view_count": null,
       "_view_module": "@jupyter-widgets/base",
       "_view_module_version": "1.2.0",
       "_view_name": "LayoutView",
       "align_content": null,
       "align_items": null,
       "align_self": null,
       "border": null,
       "bottom": null,
       "display": null,
       "flex": null,
       "flex_flow": null,
       "grid_area": null,
       "grid_auto_columns": null,
       "grid_auto_flow": null,
       "grid_auto_rows": null,
       "grid_column": null,
       "grid_gap": null,
       "grid_row": null,
       "grid_template_areas": null,
       "grid_template_columns": null,
       "grid_template_rows": null,
       "height": null,
       "justify_content": null,
       "justify_items": null,
       "left": null,
       "margin": null,
       "max_height": null,
       "max_width": null,
       "min_height": null,
       "min_width": null,
       "object_fit": null,
       "object_position": null,
       "order": null,
       "overflow": null,
       "overflow_x": null,
       "overflow_y": null,
       "padding": null,
       "right": null,
       "top": null,
       "visibility": null,
       "width": null
      }
     },
     "c1762f685cd9490bae0140e05820f927": {
      "model_module": "@jupyter-widgets/base",
      "model_module_version": "1.2.0",
      "model_name": "LayoutModel",
      "state": {
       "_model_module": "@jupyter-widgets/base",
       "_model_module_version": "1.2.0",
       "_model_name": "LayoutModel",
       "_view_count": null,
       "_view_module": "@jupyter-widgets/base",
       "_view_module_version": "1.2.0",
       "_view_name": "LayoutView",
       "align_content": null,
       "align_items": null,
       "align_self": null,
       "border": null,
       "bottom": null,
       "display": null,
       "flex": null,
       "flex_flow": null,
       "grid_area": null,
       "grid_auto_columns": null,
       "grid_auto_flow": null,
       "grid_auto_rows": null,
       "grid_column": null,
       "grid_gap": null,
       "grid_row": null,
       "grid_template_areas": null,
       "grid_template_columns": null,
       "grid_template_rows": null,
       "height": null,
       "justify_content": null,
       "justify_items": null,
       "left": null,
       "margin": null,
       "max_height": null,
       "max_width": null,
       "min_height": null,
       "min_width": null,
       "object_fit": null,
       "object_position": null,
       "order": null,
       "overflow": null,
       "overflow_x": null,
       "overflow_y": null,
       "padding": null,
       "right": null,
       "top": null,
       "visibility": null,
       "width": null
      }
     },
     "c626b6ee70e84cb5ac088134d21d9ab3": {
      "model_module": "@jupyter-widgets/controls",
      "model_module_version": "1.5.0",
      "model_name": "DescriptionStyleModel",
      "state": {
       "_model_module": "@jupyter-widgets/controls",
       "_model_module_version": "1.5.0",
       "_model_name": "DescriptionStyleModel",
       "_view_count": null,
       "_view_module": "@jupyter-widgets/base",
       "_view_module_version": "1.2.0",
       "_view_name": "StyleView",
       "description_width": ""
      }
     },
     "c692e0e7463d4947acbdec85a7c7f587": {
      "model_module": "@jupyter-widgets/base",
      "model_module_version": "1.2.0",
      "model_name": "LayoutModel",
      "state": {
       "_model_module": "@jupyter-widgets/base",
       "_model_module_version": "1.2.0",
       "_model_name": "LayoutModel",
       "_view_count": null,
       "_view_module": "@jupyter-widgets/base",
       "_view_module_version": "1.2.0",
       "_view_name": "LayoutView",
       "align_content": null,
       "align_items": null,
       "align_self": null,
       "border": null,
       "bottom": null,
       "display": null,
       "flex": null,
       "flex_flow": null,
       "grid_area": null,
       "grid_auto_columns": null,
       "grid_auto_flow": null,
       "grid_auto_rows": null,
       "grid_column": null,
       "grid_gap": null,
       "grid_row": null,
       "grid_template_areas": null,
       "grid_template_columns": null,
       "grid_template_rows": null,
       "height": null,
       "justify_content": null,
       "justify_items": null,
       "left": null,
       "margin": null,
       "max_height": null,
       "max_width": null,
       "min_height": null,
       "min_width": null,
       "object_fit": null,
       "object_position": null,
       "order": null,
       "overflow": null,
       "overflow_x": null,
       "overflow_y": null,
       "padding": null,
       "right": null,
       "top": null,
       "visibility": null,
       "width": null
      }
     },
     "ca4827d9effa41519705013ae729b719": {
      "model_module": "@jupyter-widgets/base",
      "model_module_version": "1.2.0",
      "model_name": "LayoutModel",
      "state": {
       "_model_module": "@jupyter-widgets/base",
       "_model_module_version": "1.2.0",
       "_model_name": "LayoutModel",
       "_view_count": null,
       "_view_module": "@jupyter-widgets/base",
       "_view_module_version": "1.2.0",
       "_view_name": "LayoutView",
       "align_content": null,
       "align_items": null,
       "align_self": null,
       "border": null,
       "bottom": null,
       "display": null,
       "flex": null,
       "flex_flow": null,
       "grid_area": null,
       "grid_auto_columns": null,
       "grid_auto_flow": null,
       "grid_auto_rows": null,
       "grid_column": null,
       "grid_gap": null,
       "grid_row": null,
       "grid_template_areas": null,
       "grid_template_columns": null,
       "grid_template_rows": null,
       "height": null,
       "justify_content": null,
       "justify_items": null,
       "left": null,
       "margin": null,
       "max_height": null,
       "max_width": null,
       "min_height": null,
       "min_width": null,
       "object_fit": null,
       "object_position": null,
       "order": null,
       "overflow": null,
       "overflow_x": null,
       "overflow_y": null,
       "padding": null,
       "right": null,
       "top": null,
       "visibility": null,
       "width": null
      }
     },
     "cf3f408abddf4da4a72a7e801cd07b42": {
      "model_module": "@jupyter-widgets/base",
      "model_module_version": "1.2.0",
      "model_name": "LayoutModel",
      "state": {
       "_model_module": "@jupyter-widgets/base",
       "_model_module_version": "1.2.0",
       "_model_name": "LayoutModel",
       "_view_count": null,
       "_view_module": "@jupyter-widgets/base",
       "_view_module_version": "1.2.0",
       "_view_name": "LayoutView",
       "align_content": null,
       "align_items": null,
       "align_self": null,
       "border": null,
       "bottom": null,
       "display": null,
       "flex": null,
       "flex_flow": null,
       "grid_area": null,
       "grid_auto_columns": null,
       "grid_auto_flow": null,
       "grid_auto_rows": null,
       "grid_column": null,
       "grid_gap": null,
       "grid_row": null,
       "grid_template_areas": null,
       "grid_template_columns": null,
       "grid_template_rows": null,
       "height": null,
       "justify_content": null,
       "justify_items": null,
       "left": null,
       "margin": null,
       "max_height": null,
       "max_width": null,
       "min_height": null,
       "min_width": null,
       "object_fit": null,
       "object_position": null,
       "order": null,
       "overflow": null,
       "overflow_x": null,
       "overflow_y": null,
       "padding": null,
       "right": null,
       "top": null,
       "visibility": null,
       "width": null
      }
     },
     "d1a232e69ef54601b606753c4ad5ce8a": {
      "model_module": "@jupyter-widgets/controls",
      "model_module_version": "1.5.0",
      "model_name": "FloatProgressModel",
      "state": {
       "_dom_classes": [],
       "_model_module": "@jupyter-widgets/controls",
       "_model_module_version": "1.5.0",
       "_model_name": "FloatProgressModel",
       "_view_count": null,
       "_view_module": "@jupyter-widgets/controls",
       "_view_module_version": "1.5.0",
       "_view_name": "ProgressView",
       "bar_style": "success",
       "description": "",
       "description_tooltip": null,
       "layout": "IPY_MODEL_419a8b388cbc4fd7bc6853c4474a1788",
       "max": 1,
       "min": 0,
       "orientation": "horizontal",
       "style": "IPY_MODEL_c0e1e9770a224783830e0bd3340bcabb",
       "value": 1
      }
     },
     "d3b5633ca29143b6be40494f776ee576": {
      "model_module": "@jupyter-widgets/controls",
      "model_module_version": "1.5.0",
      "model_name": "DescriptionStyleModel",
      "state": {
       "_model_module": "@jupyter-widgets/controls",
       "_model_module_version": "1.5.0",
       "_model_name": "DescriptionStyleModel",
       "_view_count": null,
       "_view_module": "@jupyter-widgets/base",
       "_view_module_version": "1.2.0",
       "_view_name": "StyleView",
       "description_width": ""
      }
     },
     "dc58d806c22240a3a95d62fb551e5b2a": {
      "model_module": "@jupyter-widgets/controls",
      "model_module_version": "1.5.0",
      "model_name": "FloatProgressModel",
      "state": {
       "_dom_classes": [],
       "_model_module": "@jupyter-widgets/controls",
       "_model_module_version": "1.5.0",
       "_model_name": "FloatProgressModel",
       "_view_count": null,
       "_view_module": "@jupyter-widgets/controls",
       "_view_module_version": "1.5.0",
       "_view_name": "ProgressView",
       "bar_style": "success",
       "description": "",
       "description_tooltip": null,
       "layout": "IPY_MODEL_40610602b90c4eefa86d5f37a1b1b604",
       "max": 560598985,
       "min": 0,
       "orientation": "horizontal",
       "style": "IPY_MODEL_44dfdbd98aad4e5bb5bc704f9abdb676",
       "value": 560598985
      }
     },
     "ecb5d78c14544355bcec7c8ea16bff79": {
      "model_module": "@jupyter-widgets/controls",
      "model_module_version": "1.5.0",
      "model_name": "HTMLModel",
      "state": {
       "_dom_classes": [],
       "_model_module": "@jupyter-widgets/controls",
       "_model_module_version": "1.5.0",
       "_model_name": "HTMLModel",
       "_view_count": null,
       "_view_module": "@jupyter-widgets/controls",
       "_view_module_version": "1.5.0",
       "_view_name": "HTMLView",
       "description": "",
       "description_tooltip": null,
       "layout": "IPY_MODEL_981d6f1fc85745ff9da698d1f0efb783",
       "placeholder": "​",
       "style": "IPY_MODEL_b81b0131ef5847ccb09f5c21fc31b00e",
       "value": "Map: 100%"
      }
     },
     "f6f0bec2ef094837848fe7b3d4f8fab2": {
      "model_module": "@jupyter-widgets/controls",
      "model_module_version": "1.5.0",
      "model_name": "HTMLModel",
      "state": {
       "_dom_classes": [],
       "_model_module": "@jupyter-widgets/controls",
       "_model_module_version": "1.5.0",
       "_model_name": "HTMLModel",
       "_view_count": null,
       "_view_module": "@jupyter-widgets/controls",
       "_view_module_version": "1.5.0",
       "_view_name": "HTMLView",
       "description": "",
       "description_tooltip": null,
       "layout": "IPY_MODEL_b1aac1f9ac364938b616a1846da6575b",
       "placeholder": "​",
       "style": "IPY_MODEL_c626b6ee70e84cb5ac088134d21d9ab3",
       "value": "Downloading data: 100%"
      }
     },
     "f8085130e30e4e88864bd3ac3ffc5050": {
      "model_module": "@jupyter-widgets/base",
      "model_module_version": "1.2.0",
      "model_name": "LayoutModel",
      "state": {
       "_model_module": "@jupyter-widgets/base",
       "_model_module_version": "1.2.0",
       "_model_name": "LayoutModel",
       "_view_count": null,
       "_view_module": "@jupyter-widgets/base",
       "_view_module_version": "1.2.0",
       "_view_name": "LayoutView",
       "align_content": null,
       "align_items": null,
       "align_self": null,
       "border": null,
       "bottom": null,
       "display": null,
       "flex": null,
       "flex_flow": null,
       "grid_area": null,
       "grid_auto_columns": null,
       "grid_auto_flow": null,
       "grid_auto_rows": null,
       "grid_column": null,
       "grid_gap": null,
       "grid_row": null,
       "grid_template_areas": null,
       "grid_template_columns": null,
       "grid_template_rows": null,
       "height": null,
       "justify_content": null,
       "justify_items": null,
       "left": null,
       "margin": null,
       "max_height": null,
       "max_width": null,
       "min_height": null,
       "min_width": null,
       "object_fit": null,
       "object_position": null,
       "order": null,
       "overflow": null,
       "overflow_x": null,
       "overflow_y": null,
       "padding": null,
       "right": null,
       "top": null,
       "visibility": null,
       "width": null
      }
     },
     "fb09e37e1dfa4748b0eb58fd4552ddac": {
      "model_module": "@jupyter-widgets/base",
      "model_module_version": "1.2.0",
      "model_name": "LayoutModel",
      "state": {
       "_model_module": "@jupyter-widgets/base",
       "_model_module_version": "1.2.0",
       "_model_name": "LayoutModel",
       "_view_count": null,
       "_view_module": "@jupyter-widgets/base",
       "_view_module_version": "1.2.0",
       "_view_name": "LayoutView",
       "align_content": null,
       "align_items": null,
       "align_self": null,
       "border": null,
       "bottom": null,
       "display": null,
       "flex": null,
       "flex_flow": null,
       "grid_area": null,
       "grid_auto_columns": null,
       "grid_auto_flow": null,
       "grid_auto_rows": null,
       "grid_column": null,
       "grid_gap": null,
       "grid_row": null,
       "grid_template_areas": null,
       "grid_template_columns": null,
       "grid_template_rows": null,
       "height": null,
       "justify_content": null,
       "justify_items": null,
       "left": null,
       "margin": null,
       "max_height": null,
       "max_width": null,
       "min_height": null,
       "min_width": null,
       "object_fit": null,
       "object_position": null,
       "order": null,
       "overflow": null,
       "overflow_x": null,
       "overflow_y": null,
       "padding": null,
       "right": null,
       "top": null,
       "visibility": null,
       "width": null
      }
     },
     "feb7bb32346c4c4880d14fc4d9be4f9c": {
      "model_module": "@jupyter-widgets/base",
      "model_module_version": "1.2.0",
      "model_name": "LayoutModel",
      "state": {
       "_model_module": "@jupyter-widgets/base",
       "_model_module_version": "1.2.0",
       "_model_name": "LayoutModel",
       "_view_count": null,
       "_view_module": "@jupyter-widgets/base",
       "_view_module_version": "1.2.0",
       "_view_name": "LayoutView",
       "align_content": null,
       "align_items": null,
       "align_self": null,
       "border": null,
       "bottom": null,
       "display": null,
       "flex": null,
       "flex_flow": null,
       "grid_area": null,
       "grid_auto_columns": null,
       "grid_auto_flow": null,
       "grid_auto_rows": null,
       "grid_column": null,
       "grid_gap": null,
       "grid_row": null,
       "grid_template_areas": null,
       "grid_template_columns": null,
       "grid_template_rows": null,
       "height": null,
       "justify_content": null,
       "justify_items": null,
       "left": null,
       "margin": null,
       "max_height": null,
       "max_width": null,
       "min_height": null,
       "min_width": null,
       "object_fit": null,
       "object_position": null,
       "order": null,
       "overflow": null,
       "overflow_x": null,
       "overflow_y": null,
       "padding": null,
       "right": null,
       "top": null,
       "visibility": null,
       "width": null
      }
     }
    },
    "version_major": 2,
    "version_minor": 0
   }
  }
 },
 "nbformat": 4,
 "nbformat_minor": 5
}
