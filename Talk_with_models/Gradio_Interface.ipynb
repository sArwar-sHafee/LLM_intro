{
  "nbformat": 4,
  "nbformat_minor": 0,
  "metadata": {
    "colab": {
      "provenance": []
    },
    "kernelspec": {
      "name": "python3",
      "display_name": "Python 3"
    },
    "language_info": {
      "name": "python"
    }
  },
  "cells": [
    {
      "cell_type": "code",
      "execution_count": 4,
      "metadata": {
        "collapsed": true,
        "id": "TaZJcu6TFzQV"
      },
      "outputs": [],
      "source": [
        "%%capture\n",
        "!pip install --upgrade gradio\n",
        "!pip install openai"
      ]
    },
    {
      "cell_type": "code",
      "source": [
        "#@title Secrate Key\n",
        "\n",
        "#@markdown **import os**\n",
        "\n",
        "#@markdown **os.environ['OPENAI_API_KEY'] = \"XXXXXXXXXXXXXXXXXXXXXXXXXXXXXX\"**\n",
        "\n",
        "import os\n",
        "os.environ['OPENAI_API_KEY'] = \"Your API Key\""
      ],
      "metadata": {
        "id": "on_euaQkF4MP"
      },
      "execution_count": 3,
      "outputs": []
    },
    {
      "cell_type": "code",
      "source": [
        "from openai import OpenAI\n",
        "client = OpenAI()\n",
        "messages_list=[\n",
        "    {\"role\": \"system\", \"content\": \"You are a helpful assistant\"},\n",
        "]\n",
        "def ai_response(user_message, history):\n",
        "  messages_list.append({\"role\": \"user\", \"content\": user_message})\n",
        "  completion = client.chat.completions.create(\n",
        "      model = \"gpt-4o-mini\",\n",
        "      messages = messages_list\n",
        "  )\n",
        "  messages_list.append(completion.choices[0].message)\n",
        "  return completion.choices[0].message.content"
      ],
      "metadata": {
        "id": "_ixfkwPhGVXF"
      },
      "execution_count": 30,
      "outputs": []
    },
    {
      "cell_type": "code",
      "source": [
        "import gradio as gr\n",
        "\n",
        "gr.ChatInterface(ai_response).launch()"
      ],
      "metadata": {
        "colab": {
          "base_uri": "https://localhost:8080/",
          "height": 646
        },
        "id": "XN-8eGFGGr1m",
        "outputId": "7d671c54-6be5-43fa-bedc-310dfe2be1a0"
      },
      "execution_count": 32,
      "outputs": [
        {
          "output_type": "stream",
          "name": "stdout",
          "text": [
            "Setting queue=True in a Colab notebook requires sharing enabled. Setting `share=True` (you can turn this off by setting `share=False` in `launch()` explicitly).\n",
            "\n",
            "Colab notebook detected. To show errors in colab notebook, set debug=True in launch()\n",
            "Running on public URL: https://e9a2a975d918b9537e.gradio.live\n",
            "\n",
            "This share link expires in 72 hours. For free permanent hosting and GPU upgrades, run `gradio deploy` from Terminal to deploy to Spaces (https://huggingface.co/spaces)\n"
          ]
        },
        {
          "output_type": "display_data",
          "data": {
            "text/plain": [
              "<IPython.core.display.HTML object>"
            ],
            "text/html": [
              "<div><iframe src=\"https://e9a2a975d918b9537e.gradio.live\" width=\"100%\" height=\"500\" allow=\"autoplay; camera; microphone; clipboard-read; clipboard-write;\" frameborder=\"0\" allowfullscreen></iframe></div>"
            ]
          },
          "metadata": {}
        },
        {
          "output_type": "execute_result",
          "data": {
            "text/plain": []
          },
          "metadata": {},
          "execution_count": 32
        }
      ]
    },
    {
      "cell_type": "code",
      "source": [],
      "metadata": {
        "id": "6FkqvOrfIvVR"
      },
      "execution_count": null,
      "outputs": []
    }
  ]
}